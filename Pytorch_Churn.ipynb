{
  "nbformat": 4,
  "nbformat_minor": 0,
  "metadata": {
    "colab": {
      "provenance": []
    },
    "kernelspec": {
      "name": "python3",
      "display_name": "Python 3"
    },
    "language_info": {
      "name": "python"
    }
  },
  "cells": [
    {
      "cell_type": "code",
      "execution_count": 1,
      "metadata": {
        "colab": {
          "base_uri": "https://localhost:8080/"
        },
        "id": "IkLJVHvqAvkW",
        "outputId": "22a793bd-d36e-4727-805e-db42ed8b0bd2"
      },
      "outputs": [
        {
          "output_type": "stream",
          "name": "stdout",
          "text": [
            "Drive already mounted at /content/drive; to attempt to forcibly remount, call drive.mount(\"/content/drive\", force_remount=True).\n"
          ]
        }
      ],
      "source": [
        "from google.colab import drive\n",
        "drive.mount('/content/drive')"
      ]
    },
    {
      "cell_type": "markdown",
      "source": [
        "# Import important libraries"
      ],
      "metadata": {
        "id": "xCUsM5m6BBO9"
      }
    },
    {
      "cell_type": "code",
      "source": [
        "!pip install dill"
      ],
      "metadata": {
        "colab": {
          "base_uri": "https://localhost:8080/"
        },
        "id": "XZN6YI3gA_WG",
        "outputId": "fab8c3e3-da52-4610-ca22-e41c198ee3a5"
      },
      "execution_count": 2,
      "outputs": [
        {
          "output_type": "stream",
          "name": "stdout",
          "text": [
            "Requirement already satisfied: dill in /usr/local/lib/python3.10/dist-packages (0.3.9)\n"
          ]
        }
      ]
    },
    {
      "cell_type": "code",
      "source": [
        "import pandas as pd\n",
        "import numpy as np\n",
        "import matplotlib.pyplot as plt\n",
        "import seaborn as sns\n",
        "import dill\n",
        "import warnings\n",
        "from sklearn.exceptions import FitFailedWarning\n",
        "import pickle"
      ],
      "metadata": {
        "id": "-l5KuPe0BGkP"
      },
      "execution_count": 3,
      "outputs": []
    },
    {
      "cell_type": "code",
      "source": [
        "warnings.filterwarnings(\"ignore\", category=UserWarning)\n",
        "warnings.filterwarnings(\"ignore\", category=FitFailedWarning)"
      ],
      "metadata": {
        "id": "ip_4VHUWBH22"
      },
      "execution_count": 4,
      "outputs": []
    },
    {
      "cell_type": "markdown",
      "source": [
        "# Read preprocessed train data"
      ],
      "metadata": {
        "id": "9Dv2tB9aBL-V"
      }
    },
    {
      "cell_type": "code",
      "source": [
        "X_train = pd.read_parquet('/content/drive/MyDrive/Churn Prediction/X_train_preprocessed')\n",
        "y_train = pd.read_parquet('/content/drive/MyDrive/Churn Prediction/y_train_preprocessed')['target_event']"
      ],
      "metadata": {
        "id": "deVr1CeNBJ7s"
      },
      "execution_count": 5,
      "outputs": []
    },
    {
      "cell_type": "markdown",
      "source": [
        "# Read and transform test data"
      ],
      "metadata": {
        "id": "hLg-ODs-BPeu"
      }
    },
    {
      "cell_type": "code",
      "source": [
        "with open('/content/drive/MyDrive/Churn Prediction/test_pipeline.pkl', 'rb') as file:\n",
        "    test_pipeline = dill.load(file)"
      ],
      "metadata": {
        "id": "USfRhT34BNwM"
      },
      "execution_count": 6,
      "outputs": []
    },
    {
      "cell_type": "code",
      "source": [
        "X_test = test_pipeline.transform(pd.read_parquet('/content/drive/MyDrive/Churn Prediction/X_test'))\n",
        "y_test = pd.read_parquet('/content/drive/MyDrive/Churn Prediction/y_test')['target_event']"
      ],
      "metadata": {
        "id": "VRfsU8JABRVc"
      },
      "execution_count": 7,
      "outputs": []
    },
    {
      "cell_type": "markdown",
      "source": [
        "# Binary evaluation class"
      ],
      "metadata": {
        "id": "YT_Q4i4kBWbN"
      }
    },
    {
      "cell_type": "code",
      "source": [
        "from sklearn.metrics import classification_report, confusion_matrix, roc_auc_score, roc_curve, precision_score, recall_score, f1_score, precision_recall_curve, accuracy_score"
      ],
      "metadata": {
        "id": "LLrGDRzYBS-0"
      },
      "execution_count": 8,
      "outputs": []
    },
    {
      "cell_type": "code",
      "source": [
        "class BinaryClassificationEvaluation:\n",
        "    def __init__(self, y_test, y_pred, y_pred_prob=None):\n",
        "        self.y_test = y_test\n",
        "        self.y_pred = y_pred\n",
        "        self.y_pred_prob = y_pred_prob\n",
        "\n",
        "    def accuracy(self):\n",
        "        accuracy = accuracy_score(self.y_test, self.y_pred)\n",
        "        return accuracy\n",
        "\n",
        "    def classification_report(self):\n",
        "        report = classification_report(self.y_test, self.y_pred)\n",
        "        return report\n",
        "\n",
        "    def precision_recall_f1(self):\n",
        "        precision = precision_score(self.y_test, self.y_pred)\n",
        "        recall = recall_score(self.y_test, self.y_pred)\n",
        "        f1 = f1_score(self.y_test, self.y_pred)\n",
        "        return precision, recall, f1\n",
        "    def roc_score(self):\n",
        "        if self.y_pred_prob is None:\n",
        "            raise ValueError(\"y_pred_prob must be provided for ROC curve evaluation.\")\n",
        "        auc_score = roc_auc_score(self.y_test, self.y_pred_prob)\n",
        "        return auc_score\n",
        "\n",
        "    def visualize_confusion_matrix(self):\n",
        "        cm = confusion_matrix(self.y_test, self.y_pred)\n",
        "        plt.figure(figsize=(8, 6))\n",
        "        sns.heatmap(cm, annot=True, fmt='d', cmap='Blues',\n",
        "                    xticklabels=['Not Churn', 'Churn'],\n",
        "                    yticklabels=['Not Churn', 'Churn'])\n",
        "        plt.xlabel('Predicted')\n",
        "        plt.ylabel('Actual')\n",
        "        plt.title('Confusion Matrix')\n",
        "        plt.show()\n",
        "\n",
        "    def roc_curve_visualization(self):\n",
        "        auc_score = self.roc_score()\n",
        "        print('=========================')\n",
        "        print('||','ROC AUC Score:', auc_score.round(2),'||')\n",
        "        print('=========================')\n",
        "        fpr, tpr, _ = roc_curve(self.y_test, self.y_pred_prob)\n",
        "        plt.plot(fpr, tpr, color='blue', label='ROC Curve (area = %0.2f)' % auc_score)\n",
        "        plt.plot([0, 1], [0, 1], color='red', linestyle='--')\n",
        "        plt.xlabel('False Positive Rate')\n",
        "        plt.ylabel('True Positive Rate')\n",
        "        plt.title('ROC Curve')\n",
        "        plt.legend(loc='lower right')\n",
        "        plt.show()\n",
        "\n",
        "    def precision_recall_curve_plot(self):\n",
        "        if self.y_pred_prob is None:\n",
        "            raise ValueError(\"y_pred_prob must be provided for Precision-Recall curve evaluation.\")\n",
        "\n",
        "        precision, recall, _ = precision_recall_curve(self.y_test, self.y_pred_prob)\n",
        "        plt.plot(recall, precision, marker='.')\n",
        "        plt.xlabel('Recall')\n",
        "        plt.ylabel('Precision')\n",
        "        plt.title('Precision-Recall Curve')\n",
        "        plt.show()"
      ],
      "metadata": {
        "id": "A0qn_ESVBYO8"
      },
      "execution_count": 9,
      "outputs": []
    },
    {
      "cell_type": "markdown",
      "source": [
        "---\n",
        "# ***Neural Network***\n",
        "---"
      ],
      "metadata": {
        "id": "JLtWxR8mBef1"
      }
    },
    {
      "cell_type": "markdown",
      "source": [
        "## Import libraries"
      ],
      "metadata": {
        "id": "higugyegBn0e"
      }
    },
    {
      "cell_type": "code",
      "source": [
        "import torch\n",
        "import torch.nn as nn\n",
        "import torch.optim as optim\n",
        "from torch.utils.data import DataLoader\n",
        "from torch.utils.data import TensorDataset"
      ],
      "metadata": {
        "id": "79aG1YyCBawM"
      },
      "execution_count": 10,
      "outputs": []
    },
    {
      "cell_type": "markdown",
      "source": [
        "# Create model class"
      ],
      "metadata": {
        "id": "V3pHULfvCIEO"
      }
    },
    {
      "cell_type": "code",
      "source": [
        "class ChurnPredictionModel(nn.Module):\n",
        "    def __init__(self, input_size, output_size, hidden=[64, 32, 16]):\n",
        "        super().__init__()\n",
        "        self.input_size = input_size\n",
        "        self.output_size = output_size\n",
        "        self.hidden = hidden\n",
        "\n",
        "        all_layers = []\n",
        "        for i in range(len(hidden)):\n",
        "            all_layers.append(nn.Linear(self.input_size, self.hidden[i]))\n",
        "            all_layers.append(nn.BatchNorm1d(self.hidden[i]))\n",
        "            all_layers.append(nn.ReLU())\n",
        "            all_layers.append(nn.Dropout(0.2))\n",
        "            self.input_size = self.hidden[i]\n",
        "\n",
        "        all_layers.append(nn.Linear(self.input_size, self.output_size))\n",
        "        all_layers.append(nn.Sigmoid())\n",
        "\n",
        "        self.model = nn.Sequential(*all_layers)\n",
        "\n",
        "    def forward(self, x):\n",
        "        return self.model(x)\n",
        "\n",
        "    def predict(self, x):\n",
        "        x = torch.tensor(x.values, dtype=torch.float32)\n",
        "        pred = self.forward(x)\n",
        "        return (pred > 0.5).float()"
      ],
      "metadata": {
        "id": "UVUmacs-B0a0"
      },
      "execution_count": 11,
      "outputs": []
    },
    {
      "cell_type": "markdown",
      "source": [
        "# Create object of NN model"
      ],
      "metadata": {
        "id": "9BuEcEUhEjDO"
      }
    },
    {
      "cell_type": "code",
      "source": [
        "model = ChurnPredictionModel(input_size=X_train.shape[1], output_size=1, hidden=[1024, 512, 128, 128, 64, 64, 32, 16])"
      ],
      "metadata": {
        "id": "RYdo8kl1EOOM"
      },
      "execution_count": 12,
      "outputs": []
    },
    {
      "cell_type": "code",
      "source": [
        "model"
      ],
      "metadata": {
        "colab": {
          "base_uri": "https://localhost:8080/"
        },
        "id": "stRQh8SmEgC7",
        "outputId": "68afda41-9940-4d5b-c918-1d6c988058b6"
      },
      "execution_count": 13,
      "outputs": [
        {
          "output_type": "execute_result",
          "data": {
            "text/plain": [
              "ChurnPredictionModel(\n",
              "  (model): Sequential(\n",
              "    (0): Linear(in_features=63, out_features=1024, bias=True)\n",
              "    (1): BatchNorm1d(1024, eps=1e-05, momentum=0.1, affine=True, track_running_stats=True)\n",
              "    (2): ReLU()\n",
              "    (3): Dropout(p=0.2, inplace=False)\n",
              "    (4): Linear(in_features=1024, out_features=512, bias=True)\n",
              "    (5): BatchNorm1d(512, eps=1e-05, momentum=0.1, affine=True, track_running_stats=True)\n",
              "    (6): ReLU()\n",
              "    (7): Dropout(p=0.2, inplace=False)\n",
              "    (8): Linear(in_features=512, out_features=128, bias=True)\n",
              "    (9): BatchNorm1d(128, eps=1e-05, momentum=0.1, affine=True, track_running_stats=True)\n",
              "    (10): ReLU()\n",
              "    (11): Dropout(p=0.2, inplace=False)\n",
              "    (12): Linear(in_features=128, out_features=128, bias=True)\n",
              "    (13): BatchNorm1d(128, eps=1e-05, momentum=0.1, affine=True, track_running_stats=True)\n",
              "    (14): ReLU()\n",
              "    (15): Dropout(p=0.2, inplace=False)\n",
              "    (16): Linear(in_features=128, out_features=64, bias=True)\n",
              "    (17): BatchNorm1d(64, eps=1e-05, momentum=0.1, affine=True, track_running_stats=True)\n",
              "    (18): ReLU()\n",
              "    (19): Dropout(p=0.2, inplace=False)\n",
              "    (20): Linear(in_features=64, out_features=64, bias=True)\n",
              "    (21): BatchNorm1d(64, eps=1e-05, momentum=0.1, affine=True, track_running_stats=True)\n",
              "    (22): ReLU()\n",
              "    (23): Dropout(p=0.2, inplace=False)\n",
              "    (24): Linear(in_features=64, out_features=32, bias=True)\n",
              "    (25): BatchNorm1d(32, eps=1e-05, momentum=0.1, affine=True, track_running_stats=True)\n",
              "    (26): ReLU()\n",
              "    (27): Dropout(p=0.2, inplace=False)\n",
              "    (28): Linear(in_features=32, out_features=16, bias=True)\n",
              "    (29): BatchNorm1d(16, eps=1e-05, momentum=0.1, affine=True, track_running_stats=True)\n",
              "    (30): ReLU()\n",
              "    (31): Dropout(p=0.2, inplace=False)\n",
              "    (32): Linear(in_features=16, out_features=1, bias=True)\n",
              "    (33): Sigmoid()\n",
              "  )\n",
              ")"
            ]
          },
          "metadata": {},
          "execution_count": 13
        }
      ]
    },
    {
      "cell_type": "markdown",
      "source": [
        "# Create train class"
      ],
      "metadata": {
        "id": "EbBeoYHaEq-E"
      }
    },
    {
      "cell_type": "code",
      "source": [
        "class TrainModel:\n",
        "    def __init__(self, model, loss, optimizer, batch_size, epochs, tolerance=None, round=None):\n",
        "        self.model = model\n",
        "        self.loss = loss\n",
        "        self.optimizer = optimizer\n",
        "        self.batch_size = batch_size\n",
        "        self.epochs = epochs\n",
        "        self.tolerance = tolerance\n",
        "        self.round = round\n",
        "\n",
        "        self.loss_hist_train = [0] * epochs\n",
        "        self.f1_hist_train = [0] * epochs\n",
        "\n",
        "        self.val_hist_f1 = [0] * epochs\n",
        "        self.val_hist_loss = [0] * epochs\n",
        "\n",
        "    def to_tensor(self, x, y):\n",
        "        x = torch.tensor(x.values, dtype=torch.float32)\n",
        "        y = torch.tensor(y.values, dtype=torch.float32).reshape(-1, 1)\n",
        "        return x, y\n",
        "\n",
        "    def data_loader(self, x, y):\n",
        "        x_tensor, y_tensor = self.to_tensor(x, y)\n",
        "        dataset = TensorDataset(x_tensor, y_tensor)\n",
        "        return DataLoader(dataset, batch_size=self.batch_size, shuffle=True)\n",
        "\n",
        "    def early_stop(self, epoch):\n",
        "        if len(self.val_hist_loss) < self.round + 1:\n",
        "            return False\n",
        "\n",
        "        trues = []\n",
        "        for i in range(0, self.round):\n",
        "            current_loss = self.val_hist_loss[epoch - i]\n",
        "            previous_loss = self.val_hist_loss[epoch - i - 1]\n",
        "\n",
        "            if abs(current_loss - previous_loss) < self.tolerance:\n",
        "                trues.append(True)\n",
        "            else:\n",
        "                trues.append(False)\n",
        "\n",
        "        if all(trues):\n",
        "            print(\"Early stopping triggered.\")\n",
        "            return True\n",
        "\n",
        "        return False\n",
        "\n",
        "    def train_model(self, X_train, y_train, X_val, y_val):\n",
        "        for epoch in range(self.epochs):\n",
        "            self.model.train()\n",
        "            train_dl = self.data_loader(X_train, y_train)\n",
        "            epoch_loss = 0.0\n",
        "            epoch_f1 = 0.0\n",
        "\n",
        "            all_y_true = []\n",
        "            all_y_pred = []\n",
        "\n",
        "            for x_batch, y_batch in train_dl:\n",
        "                y_pred = self.model(x_batch)\n",
        "                loss = self.loss(y_pred, y_batch)\n",
        "\n",
        "                loss.backward()\n",
        "                self.optimizer.step()\n",
        "                self.optimizer.zero_grad()\n",
        "\n",
        "                epoch_loss += loss.item()\n",
        "\n",
        "                y_pred_labels = (y_pred > 0.5).float()\n",
        "                all_y_true.extend(y_batch.numpy().flatten())\n",
        "                all_y_pred.extend(y_pred_labels.numpy().flatten())\n",
        "\n",
        "            self.loss_hist_train[epoch] = epoch_loss / len(train_dl)\n",
        "            # Calculate F1 score for the epoch\n",
        "            epoch_f1 = f1_score(all_y_true, all_y_pred, average='binary')\n",
        "            self.f1_hist_train[epoch] = epoch_f1  # Store F1 score\n",
        "\n",
        "            if X_val is not None and y_val is not None:\n",
        "                val_f1, val_loss = self.val_prediction(X_val, y_val)\n",
        "                self.val_hist_f1[epoch] = val_f1  # Store validation F1 score\n",
        "                self.val_hist_loss[epoch] = val_loss\n",
        "\n",
        "            if self.tolerance is not None:\n",
        "                if self.early_stop(epoch):\n",
        "                    break\n",
        "\n",
        "            print(f'Epoch {epoch + 1}/{self.epochs}, '\n",
        "                  f'Loss: {self.loss_hist_train[epoch]:.4f}, '\n",
        "                  f'F1 Score: {self.f1_hist_train[epoch]:.4f}')  # Changed to F1 Score\n",
        "\n",
        "            if X_val is not None and y_val is not None:\n",
        "                print(f'Validation Loss: {val_loss:.4f}, Validation F1 Score: {val_f1:.4f}')\n",
        "                print('======================================================')\n",
        "\n",
        "        return self.loss_hist_train, self.f1_hist_train, self.val_hist_loss, self.val_hist_f1\n",
        "\n",
        "    def val_prediction(self, X_val, y_val):\n",
        "        X_val_tensor, y_val_tensor = self.to_tensor(X_val, y_val)\n",
        "        with torch.no_grad():\n",
        "            y_pred_raw = self.model(X_val_tensor)\n",
        "            loss = self.loss(y_pred_raw, y_val_tensor)\n",
        "\n",
        "            y_pred = (y_pred_raw > 0.5).float()\n",
        "\n",
        "            f1 = f1_score(y_val_tensor.numpy(), y_pred.numpy(), average='binary')\n",
        "\n",
        "            return f1, loss.item()"
      ],
      "metadata": {
        "id": "Xxt3FAEmEhkL"
      },
      "execution_count": 14,
      "outputs": []
    },
    {
      "cell_type": "markdown",
      "source": [
        "# Create hiperparameter tuning function for trying different learning rate"
      ],
      "metadata": {
        "id": "SE-T7jntz2yp"
      }
    },
    {
      "cell_type": "code",
      "source": [
        "!pip install optuna"
      ],
      "metadata": {
        "colab": {
          "base_uri": "https://localhost:8080/"
        },
        "id": "-6c9P0GdFNzB",
        "outputId": "6be67f16-5b44-4184-c894-f14b801b31bd"
      },
      "execution_count": 15,
      "outputs": [
        {
          "output_type": "stream",
          "name": "stdout",
          "text": [
            "Requirement already satisfied: optuna in /usr/local/lib/python3.10/dist-packages (4.0.0)\n",
            "Requirement already satisfied: alembic>=1.5.0 in /usr/local/lib/python3.10/dist-packages (from optuna) (1.13.3)\n",
            "Requirement already satisfied: colorlog in /usr/local/lib/python3.10/dist-packages (from optuna) (6.8.2)\n",
            "Requirement already satisfied: numpy in /usr/local/lib/python3.10/dist-packages (from optuna) (1.26.4)\n",
            "Requirement already satisfied: packaging>=20.0 in /usr/local/lib/python3.10/dist-packages (from optuna) (24.1)\n",
            "Requirement already satisfied: sqlalchemy>=1.3.0 in /usr/local/lib/python3.10/dist-packages (from optuna) (2.0.35)\n",
            "Requirement already satisfied: tqdm in /usr/local/lib/python3.10/dist-packages (from optuna) (4.66.5)\n",
            "Requirement already satisfied: PyYAML in /usr/local/lib/python3.10/dist-packages (from optuna) (6.0.2)\n",
            "Requirement already satisfied: Mako in /usr/local/lib/python3.10/dist-packages (from alembic>=1.5.0->optuna) (1.3.5)\n",
            "Requirement already satisfied: typing-extensions>=4 in /usr/local/lib/python3.10/dist-packages (from alembic>=1.5.0->optuna) (4.12.2)\n",
            "Requirement already satisfied: greenlet!=0.4.17 in /usr/local/lib/python3.10/dist-packages (from sqlalchemy>=1.3.0->optuna) (3.1.1)\n",
            "Requirement already satisfied: MarkupSafe>=0.9.2 in /usr/local/lib/python3.10/dist-packages (from Mako->alembic>=1.5.0->optuna) (3.0.1)\n"
          ]
        }
      ]
    },
    {
      "cell_type": "code",
      "source": [
        "import optuna"
      ],
      "metadata": {
        "id": "xIhQ_jM6FTU4"
      },
      "execution_count": 16,
      "outputs": []
    },
    {
      "cell_type": "code",
      "source": [
        "learning_rate_grid = [0.001, 0.01, 0.015, 0.1]\n",
        "\n",
        "best_val_f1 = 0.0\n",
        "\n",
        "def objective(trial):\n",
        "    global best_val_f1\n",
        "\n",
        "    learning_rate = trial.suggest_categorical('learning_rate', learning_rate_grid)\n",
        "\n",
        "    model = ChurnPredictionModel(input_size=X_train.shape[1], output_size=1, hidden=[128, 128, 64, 64, 32, 16])\n",
        "    loss = nn.BCELoss()\n",
        "    optimizer = optim.Adam(model.parameters(), lr=learning_rate)\n",
        "\n",
        "    train = TrainModel(model, loss, optimizer, batch_size=32, epochs=30, tolerance=0.01, round=2)\n",
        "    loss_hist_train, f1_hist_train, val_loss_hist, val_f1_hist = train.train_model(X_train, y_train, X_test, y_test)\n",
        "\n",
        "    final_val_f1 = val_f1_hist[-1]\n",
        "\n",
        "    if final_val_f1 > best_val_f1:\n",
        "        best_val_f1 = final_val_f1\n",
        "        torch.save(model.state_dict(), '/content/drive/MyDrive/Churn Prediction/best_model.pth')\n",
        "\n",
        "    trial.set_user_attr('metrics', {\n",
        "        'loss_hist_train': loss_hist_train,\n",
        "        'f1_hist_train': f1_hist_train,\n",
        "        'val_loss_hist': val_loss_hist,\n",
        "        'val_f1_hist': val_f1_hist,\n",
        "        'learning_rate': learning_rate\n",
        "    })\n",
        "    return final_val_f1"
      ],
      "metadata": {
        "id": "HmwJEIvFFSXn"
      },
      "execution_count": 17,
      "outputs": []
    },
    {
      "cell_type": "code",
      "source": [
        "study = optuna.create_study(direction='maximize')\n",
        "study.optimize(objective, n_trials=4)\n",
        "print('Best hyperparameters:', study.best_params)"
      ],
      "metadata": {
        "colab": {
          "base_uri": "https://localhost:8080/"
        },
        "id": "M0FvTcBSHNqa",
        "outputId": "3d7cfd64-761b-4bbe-d9df-194e6881dde6"
      },
      "execution_count": 18,
      "outputs": [
        {
          "output_type": "stream",
          "name": "stderr",
          "text": [
            "[I 2024-10-17 14:40:46,558] A new study created in memory with name: no-name-5efccc79-2665-4e17-8c23-f8eb50c43d57\n"
          ]
        },
        {
          "output_type": "stream",
          "name": "stdout",
          "text": [
            "Epoch 1/30, Loss: 0.4512, F1 Score: 0.7815\n",
            "Validation Loss: 0.4595, Validation F1 Score: 0.7073\n",
            "======================================================\n",
            "Epoch 2/30, Loss: 0.4338, F1 Score: 0.7912\n",
            "Validation Loss: 0.4362, Validation F1 Score: 0.7318\n",
            "======================================================\n",
            "Epoch 3/30, Loss: 0.4268, F1 Score: 0.7932\n",
            "Validation Loss: 0.4168, Validation F1 Score: 0.7452\n",
            "======================================================\n",
            "Epoch 4/30, Loss: 0.4205, F1 Score: 0.7971\n",
            "Validation Loss: 0.4815, Validation F1 Score: 0.7283\n",
            "======================================================\n",
            "Epoch 5/30, Loss: 0.4168, F1 Score: 0.8019\n",
            "Validation Loss: 0.4234, Validation F1 Score: 0.7434\n",
            "======================================================\n",
            "Epoch 6/30, Loss: 0.4141, F1 Score: 0.8022\n",
            "Validation Loss: 0.4147, Validation F1 Score: 0.7411\n",
            "======================================================\n",
            "Epoch 7/30, Loss: 0.4111, F1 Score: 0.8045\n",
            "Validation Loss: 0.4283, Validation F1 Score: 0.7341\n",
            "======================================================\n",
            "Epoch 8/30, Loss: 0.4090, F1 Score: 0.8054\n",
            "Validation Loss: 0.4097, Validation F1 Score: 0.7464\n",
            "======================================================\n",
            "Epoch 9/30, Loss: 0.4053, F1 Score: 0.8071\n",
            "Validation Loss: 0.4287, Validation F1 Score: 0.7412\n",
            "======================================================\n",
            "Epoch 10/30, Loss: 0.4051, F1 Score: 0.8073\n",
            "Validation Loss: 0.4189, Validation F1 Score: 0.7360\n",
            "======================================================\n"
          ]
        },
        {
          "output_type": "stream",
          "name": "stderr",
          "text": [
            "[I 2024-10-17 14:45:26,696] Trial 0 finished with value: 0.0 and parameters: {'learning_rate': 0.01}. Best is trial 0 with value: 0.0.\n"
          ]
        },
        {
          "output_type": "stream",
          "name": "stdout",
          "text": [
            "Early stopping triggered.\n",
            "Epoch 1/30, Loss: 0.4893, F1 Score: 0.7480\n",
            "Validation Loss: 0.5177, Validation F1 Score: 0.7022\n",
            "======================================================\n",
            "Epoch 2/30, Loss: 0.4686, F1 Score: 0.7638\n",
            "Validation Loss: 0.4820, Validation F1 Score: 0.7176\n",
            "======================================================\n",
            "Epoch 3/30, Loss: 0.4646, F1 Score: 0.7696\n",
            "Validation Loss: 0.4619, Validation F1 Score: 0.7247\n",
            "======================================================\n",
            "Epoch 4/30, Loss: 0.4569, F1 Score: 0.7730\n",
            "Validation Loss: 0.4249, Validation F1 Score: 0.7262\n",
            "======================================================\n",
            "Epoch 5/30, Loss: 0.4556, F1 Score: 0.7774\n",
            "Validation Loss: 0.4489, Validation F1 Score: 0.7211\n",
            "======================================================\n",
            "Epoch 6/30, Loss: 0.4525, F1 Score: 0.7783\n",
            "Validation Loss: 0.4584, Validation F1 Score: 0.7355\n",
            "======================================================\n",
            "Epoch 7/30, Loss: 0.4628, F1 Score: 0.7745\n",
            "Validation Loss: 0.4263, Validation F1 Score: 0.7246\n",
            "======================================================\n",
            "Epoch 8/30, Loss: 0.4604, F1 Score: 0.7750\n",
            "Validation Loss: 0.4118, Validation F1 Score: 0.7074\n",
            "======================================================\n",
            "Epoch 9/30, Loss: 0.4581, F1 Score: 0.7754\n",
            "Validation Loss: 0.4537, Validation F1 Score: 0.7245\n",
            "======================================================\n",
            "Epoch 10/30, Loss: 0.4543, F1 Score: 0.7757\n",
            "Validation Loss: 0.4316, Validation F1 Score: 0.7240\n",
            "======================================================\n",
            "Epoch 11/30, Loss: 0.4532, F1 Score: 0.7769\n",
            "Validation Loss: 0.4313, Validation F1 Score: 0.7236\n",
            "======================================================\n",
            "Epoch 12/30, Loss: 0.4580, F1 Score: 0.7788\n",
            "Validation Loss: 0.5402, Validation F1 Score: 0.7027\n",
            "======================================================\n",
            "Epoch 13/30, Loss: 0.4534, F1 Score: 0.7777\n",
            "Validation Loss: 0.4509, Validation F1 Score: 0.7302\n",
            "======================================================\n",
            "Epoch 14/30, Loss: 0.4528, F1 Score: 0.7793\n",
            "Validation Loss: 0.4555, Validation F1 Score: 0.7248\n",
            "======================================================\n",
            "Epoch 15/30, Loss: 0.4516, F1 Score: 0.7803\n",
            "Validation Loss: 0.4091, Validation F1 Score: 0.7046\n",
            "======================================================\n",
            "Epoch 16/30, Loss: 0.4511, F1 Score: 0.7805\n",
            "Validation Loss: 0.4685, Validation F1 Score: 0.7260\n",
            "======================================================\n",
            "Epoch 17/30, Loss: 0.4492, F1 Score: 0.7809\n",
            "Validation Loss: 0.4400, Validation F1 Score: 0.7339\n",
            "======================================================\n",
            "Epoch 18/30, Loss: 0.4548, F1 Score: 0.7800\n",
            "Validation Loss: 0.5055, Validation F1 Score: 0.7165\n",
            "======================================================\n",
            "Epoch 19/30, Loss: 0.4501, F1 Score: 0.7822\n",
            "Validation Loss: 0.4566, Validation F1 Score: 0.7262\n",
            "======================================================\n",
            "Epoch 20/30, Loss: 0.4555, F1 Score: 0.7800\n",
            "Validation Loss: 0.4429, Validation F1 Score: 0.7276\n",
            "======================================================\n",
            "Epoch 21/30, Loss: 0.4516, F1 Score: 0.7812\n",
            "Validation Loss: 0.4660, Validation F1 Score: 0.7268\n",
            "======================================================\n",
            "Epoch 22/30, Loss: 0.4472, F1 Score: 0.7808\n",
            "Validation Loss: 0.5286, Validation F1 Score: 0.7112\n",
            "======================================================\n",
            "Epoch 23/30, Loss: 0.4535, F1 Score: 0.7804\n",
            "Validation Loss: 0.4391, Validation F1 Score: 0.7356\n",
            "======================================================\n",
            "Epoch 24/30, Loss: 0.4479, F1 Score: 0.7826\n",
            "Validation Loss: 0.4548, Validation F1 Score: 0.7350\n",
            "======================================================\n",
            "Epoch 25/30, Loss: 0.4473, F1 Score: 0.7829\n",
            "Validation Loss: 0.5858, Validation F1 Score: 0.7094\n",
            "======================================================\n",
            "Epoch 26/30, Loss: 0.4552, F1 Score: 0.7831\n",
            "Validation Loss: 0.4501, Validation F1 Score: 0.7340\n",
            "======================================================\n",
            "Epoch 27/30, Loss: 0.4495, F1 Score: 0.7840\n",
            "Validation Loss: 0.4669, Validation F1 Score: 0.7267\n",
            "======================================================\n",
            "Epoch 28/30, Loss: 0.4483, F1 Score: 0.7829\n",
            "Validation Loss: 0.4180, Validation F1 Score: 0.7201\n",
            "======================================================\n",
            "Epoch 29/30, Loss: 0.4492, F1 Score: 0.7850\n",
            "Validation Loss: 0.4521, Validation F1 Score: 0.7258\n",
            "======================================================\n"
          ]
        },
        {
          "output_type": "stream",
          "name": "stderr",
          "text": [
            "[I 2024-10-17 15:00:00,512] Trial 1 finished with value: 0.737684559127915 and parameters: {'learning_rate': 0.1}. Best is trial 1 with value: 0.737684559127915.\n"
          ]
        },
        {
          "output_type": "stream",
          "name": "stdout",
          "text": [
            "Epoch 30/30, Loss: 0.4478, F1 Score: 0.7833\n",
            "Validation Loss: 0.4692, Validation F1 Score: 0.7377\n",
            "======================================================\n",
            "Epoch 1/30, Loss: 0.4843, F1 Score: 0.7549\n",
            "Validation Loss: 0.5612, Validation F1 Score: 0.7045\n",
            "======================================================\n",
            "Epoch 2/30, Loss: 0.4706, F1 Score: 0.7638\n",
            "Validation Loss: 0.5226, Validation F1 Score: 0.7030\n",
            "======================================================\n",
            "Epoch 3/30, Loss: 0.4637, F1 Score: 0.7694\n",
            "Validation Loss: 0.4548, Validation F1 Score: 0.7317\n",
            "======================================================\n",
            "Epoch 4/30, Loss: 0.4579, F1 Score: 0.7720\n",
            "Validation Loss: 0.4503, Validation F1 Score: 0.7373\n",
            "======================================================\n",
            "Epoch 5/30, Loss: 0.4555, F1 Score: 0.7754\n",
            "Validation Loss: 0.4675, Validation F1 Score: 0.7400\n",
            "======================================================\n",
            "Epoch 6/30, Loss: 0.4545, F1 Score: 0.7768\n",
            "Validation Loss: 0.4753, Validation F1 Score: 0.7350\n",
            "======================================================\n",
            "Epoch 7/30, Loss: 0.4491, F1 Score: 0.7769\n",
            "Validation Loss: 0.4210, Validation F1 Score: 0.7331\n",
            "======================================================\n",
            "Epoch 8/30, Loss: 0.4493, F1 Score: 0.7784\n",
            "Validation Loss: 0.5123, Validation F1 Score: 0.7232\n",
            "======================================================\n",
            "Epoch 9/30, Loss: 0.4475, F1 Score: 0.7814\n",
            "Validation Loss: 0.4058, Validation F1 Score: 0.7261\n",
            "======================================================\n",
            "Epoch 10/30, Loss: 0.4483, F1 Score: 0.7818\n",
            "Validation Loss: 0.4531, Validation F1 Score: 0.7322\n",
            "======================================================\n",
            "Epoch 11/30, Loss: 0.4443, F1 Score: 0.7820\n",
            "Validation Loss: 0.4126, Validation F1 Score: 0.7331\n",
            "======================================================\n",
            "Epoch 12/30, Loss: 0.4446, F1 Score: 0.7826\n",
            "Validation Loss: 0.4252, Validation F1 Score: 0.7322\n",
            "======================================================\n",
            "Epoch 13/30, Loss: 0.4435, F1 Score: 0.7816\n",
            "Validation Loss: 0.4303, Validation F1 Score: 0.7291\n",
            "======================================================\n",
            "Epoch 14/30, Loss: 0.4446, F1 Score: 0.7844\n",
            "Validation Loss: 0.5305, Validation F1 Score: 0.7288\n",
            "======================================================\n",
            "Epoch 15/30, Loss: 0.4405, F1 Score: 0.7847\n",
            "Validation Loss: 0.4868, Validation F1 Score: 0.7447\n",
            "======================================================\n",
            "Epoch 16/30, Loss: 0.4413, F1 Score: 0.7852\n",
            "Validation Loss: 0.5102, Validation F1 Score: 0.7195\n",
            "======================================================\n",
            "Epoch 17/30, Loss: 0.4404, F1 Score: 0.7860\n",
            "Validation Loss: 0.4182, Validation F1 Score: 0.7321\n",
            "======================================================\n",
            "Epoch 18/30, Loss: 0.4452, F1 Score: 0.7866\n",
            "Validation Loss: 0.4187, Validation F1 Score: 0.7372\n",
            "======================================================\n",
            "Epoch 19/30, Loss: 0.4372, F1 Score: 0.7867\n",
            "Validation Loss: 0.4358, Validation F1 Score: 0.7406\n",
            "======================================================\n",
            "Epoch 20/30, Loss: 0.4388, F1 Score: 0.7889\n",
            "Validation Loss: 0.4635, Validation F1 Score: 0.7310\n",
            "======================================================\n",
            "Epoch 21/30, Loss: 0.4400, F1 Score: 0.7865\n",
            "Validation Loss: 0.5248, Validation F1 Score: 0.7333\n",
            "======================================================\n",
            "Epoch 22/30, Loss: 0.4435, F1 Score: 0.7860\n",
            "Validation Loss: 0.4556, Validation F1 Score: 0.7253\n",
            "======================================================\n",
            "Epoch 23/30, Loss: 0.4354, F1 Score: 0.7887\n",
            "Validation Loss: 0.4678, Validation F1 Score: 0.7353\n",
            "======================================================\n",
            "Epoch 24/30, Loss: 0.4355, F1 Score: 0.7877\n",
            "Validation Loss: 0.4057, Validation F1 Score: 0.7240\n",
            "======================================================\n",
            "Epoch 25/30, Loss: 0.4363, F1 Score: 0.7877\n",
            "Validation Loss: 0.4725, Validation F1 Score: 0.7374\n",
            "======================================================\n",
            "Epoch 26/30, Loss: 0.4340, F1 Score: 0.7891\n",
            "Validation Loss: 0.4259, Validation F1 Score: 0.7354\n",
            "======================================================\n",
            "Epoch 27/30, Loss: 0.4385, F1 Score: 0.7886\n",
            "Validation Loss: 0.4020, Validation F1 Score: 0.7326\n",
            "======================================================\n",
            "Epoch 28/30, Loss: 0.4364, F1 Score: 0.7886\n",
            "Validation Loss: 0.4270, Validation F1 Score: 0.7301\n",
            "======================================================\n",
            "Epoch 29/30, Loss: 0.4374, F1 Score: 0.7895\n",
            "Validation Loss: 0.4175, Validation F1 Score: 0.7350\n",
            "======================================================\n"
          ]
        },
        {
          "output_type": "stream",
          "name": "stderr",
          "text": [
            "[I 2024-10-17 15:14:39,725] Trial 2 finished with value: 0.7214225232853514 and parameters: {'learning_rate': 0.1}. Best is trial 1 with value: 0.737684559127915.\n"
          ]
        },
        {
          "output_type": "stream",
          "name": "stdout",
          "text": [
            "Early stopping triggered.\n",
            "Epoch 1/30, Loss: 0.4505, F1 Score: 0.7801\n",
            "Validation Loss: 0.4713, Validation F1 Score: 0.7177\n",
            "======================================================\n",
            "Epoch 2/30, Loss: 0.4340, F1 Score: 0.7879\n",
            "Validation Loss: 0.4715, Validation F1 Score: 0.7210\n",
            "======================================================\n",
            "Epoch 3/30, Loss: 0.4278, F1 Score: 0.7939\n",
            "Validation Loss: 0.4397, Validation F1 Score: 0.7325\n",
            "======================================================\n",
            "Epoch 4/30, Loss: 0.4211, F1 Score: 0.7989\n",
            "Validation Loss: 0.4219, Validation F1 Score: 0.7440\n",
            "======================================================\n",
            "Epoch 5/30, Loss: 0.4179, F1 Score: 0.7981\n",
            "Validation Loss: 0.4269, Validation F1 Score: 0.7487\n",
            "======================================================\n"
          ]
        },
        {
          "output_type": "stream",
          "name": "stderr",
          "text": [
            "[I 2024-10-17 15:17:03,346] Trial 3 finished with value: 0.0 and parameters: {'learning_rate': 0.01}. Best is trial 1 with value: 0.737684559127915.\n"
          ]
        },
        {
          "output_type": "stream",
          "name": "stdout",
          "text": [
            "Early stopping triggered.\n",
            "Best hyperparameters: {'learning_rate': 0.1}\n"
          ]
        }
      ]
    },
    {
      "cell_type": "markdown",
      "source": [
        "# Create new model with the weights of the best model in previous search"
      ],
      "metadata": {
        "id": "qBjrZu6r0BYy"
      }
    },
    {
      "cell_type": "code",
      "source": [
        "model = ChurnPredictionModel(input_size=X_train.shape[1], output_size=1, hidden=[128, 128, 64, 64, 32, 16])\n",
        "best_weights = torch.load('/content/drive/MyDrive/Churn Prediction/best_model.pth', weights_only=True)\n",
        "model.load_state_dict(best_weights)"
      ],
      "metadata": {
        "id": "ZIe48ZpvqIBc",
        "outputId": "d4afe4e8-faeb-4ebb-c89b-53b6ed6659b7",
        "colab": {
          "base_uri": "https://localhost:8080/"
        }
      },
      "execution_count": 19,
      "outputs": [
        {
          "output_type": "execute_result",
          "data": {
            "text/plain": [
              "<All keys matched successfully>"
            ]
          },
          "metadata": {},
          "execution_count": 19
        }
      ]
    },
    {
      "cell_type": "markdown",
      "source": [
        "# Show loss curves of train and test data"
      ],
      "metadata": {
        "id": "AzSRwKx91niv"
      }
    },
    {
      "cell_type": "code",
      "source": [
        "best_trial = study.best_trial"
      ],
      "metadata": {
        "id": "7sV8wJba0MCg"
      },
      "execution_count": 20,
      "outputs": []
    },
    {
      "cell_type": "code",
      "source": [
        "train_loss = best_trial.user_attrs['metrics']['loss_hist_train']\n",
        "train_f1 = best_trial.user_attrs['metrics']['f1_hist_train']\n",
        "\n",
        "val_loss = best_trial.user_attrs['metrics']['val_loss_hist']\n",
        "val_f1 = best_trial.user_attrs['metrics']['val_f1_hist']"
      ],
      "metadata": {
        "id": "CaJAxRjF1JpJ"
      },
      "execution_count": 21,
      "outputs": []
    },
    {
      "cell_type": "code",
      "source": [
        "import matplotlib.pyplot as plt\n",
        "fig, ax = plt.subplots(1,2, figsize=(15,5))\n",
        "ax = ax.flatten()\n",
        "\n",
        "ax[0].plot(train_loss, label='Train Loss')\n",
        "ax[0].plot(val_loss, label='Validation Loss')\n",
        "\n",
        "ax[1].plot(train_f1, label='Train F1')\n",
        "ax[1].plot(val_f1, label='Validation F1')\n",
        "\n",
        "ax[0].set_title('Loss')\n",
        "ax[1].set_title('F1 Score')\n",
        "\n",
        "ax[0].legend()\n",
        "ax[1].legend()\n",
        "\n",
        "plt.show()"
      ],
      "metadata": {
        "id": "bLk0LIPW0L9j",
        "outputId": "a5dbd82d-b670-44ea-e2b2-a4d9bcaa08b7",
        "colab": {
          "base_uri": "https://localhost:8080/",
          "height": 468
        }
      },
      "execution_count": 22,
      "outputs": [
        {
          "output_type": "display_data",
          "data": {
            "text/plain": [
              "<Figure size 1500x500 with 2 Axes>"
            ],
            "image/png": "[encoded data removed]"
          },
          "metadata": {}
        }
      ]
    },
    {
      "cell_type": "markdown",
      "source": [
        "# Binary evaluation object"
      ],
      "metadata": {
        "id": "J2Ek89xw1sCC"
      }
    },
    {
      "cell_type": "code",
      "source": [
        "eval = BinaryClassificationEvaluation(y_test, model.predict(X_test), model(torch.tensor(X_test.values, dtype=torch.float32)).detach().numpy())"
      ],
      "metadata": {
        "id": "O8VqOPl10L7K"
      },
      "execution_count": 23,
      "outputs": []
    },
    {
      "cell_type": "markdown",
      "source": [
        "# Evaluate model from different corner"
      ],
      "metadata": {
        "id": "kDIHnzMy2TES"
      }
    },
    {
      "cell_type": "code",
      "source": [
        "print(eval.classification_report())"
      ],
      "metadata": {
        "id": "u4QJjTh80L4i",
        "outputId": "e80d54b5-a54d-4e11-cd47-e10b5130d8f7",
        "colab": {
          "base_uri": "https://localhost:8080/"
        }
      },
      "execution_count": 24,
      "outputs": [
        {
          "output_type": "stream",
          "name": "stdout",
          "text": [
            "              precision    recall  f1-score   support\n",
            "\n",
            "           0       0.88      0.87      0.87     15296\n",
            "           1       0.73      0.74      0.73      7226\n",
            "\n",
            "    accuracy                           0.83     22522\n",
            "   macro avg       0.80      0.80      0.80     22522\n",
            "weighted avg       0.83      0.83      0.83     22522\n",
            "\n"
          ]
        }
      ]
    },
    {
      "cell_type": "code",
      "source": [
        "eval.precision_recall_curve_plot()"
      ],
      "metadata": {
        "id": "BLP5styc0L2Q",
        "outputId": "63a0c583-3f7d-4034-db4c-07dbcdaf0226",
        "colab": {
          "base_uri": "https://localhost:8080/",
          "height": 472
        }
      },
      "execution_count": 25,
      "outputs": [
        {
          "output_type": "display_data",
          "data": {
            "text/plain": [
              "<Figure size 640x480 with 1 Axes>"
            ],
            "image/png": "[encoded data removed]"
          },
          "metadata": {}
        }
      ]
    },
    {
      "cell_type": "code",
      "source": [
        "eval.roc_curve_visualization()"
      ],
      "metadata": {
        "id": "BZCa--AA0Lzr",
        "outputId": "cb22551c-7c10-4c0a-d470-022255cb5bb4",
        "colab": {
          "base_uri": "https://localhost:8080/",
          "height": 527
        }
      },
      "execution_count": 26,
      "outputs": [
        {
          "output_type": "stream",
          "name": "stdout",
          "text": [
            "=========================\n",
            "|| ROC AUC Score: 0.87 ||\n",
            "=========================\n"
          ]
        },
        {
          "output_type": "display_data",
          "data": {
            "text/plain": [
              "<Figure size 640x480 with 1 Axes>"
            ],
            "image/png": "[encoded data removed]"
          },
          "metadata": {}
        }
      ]
    },
    {
      "cell_type": "code",
      "source": [
        "eval.visualize_confusion_matrix()"
      ],
      "metadata": {
        "id": "66KuJyYc0LxC",
        "outputId": "c8111217-979d-4421-8dfe-b9d16bc67cbd",
        "colab": {
          "base_uri": "https://localhost:8080/",
          "height": 564
        }
      },
      "execution_count": 27,
      "outputs": [
        {
          "output_type": "display_data",
          "data": {
            "text/plain": [
              "<Figure size 800x600 with 2 Axes>"
            ],
            "image/png": "[encoded data removed]"
          },
          "metadata": {}
        }
      ]
    },
    {
      "cell_type": "code",
      "source": [
        "precision, recall, f1 = eval.precision_recall_f1()\n",
        "print(f'Precision: {precision:.4f}, Recall: {recall:.4f}, F1 Score: {f1:.4f}')"
      ],
      "metadata": {
        "id": "p-ZsfCIQ2Klh",
        "outputId": "0674e7ce-8034-4b14-bed9-51c9a5abb659",
        "colab": {
          "base_uri": "https://localhost:8080/"
        }
      },
      "execution_count": 28,
      "outputs": [
        {
          "output_type": "stream",
          "name": "stdout",
          "text": [
            "Precision: 0.7296, Recall: 0.7390, F1 Score: 0.7343\n"
          ]
        }
      ]
    },
    {
      "cell_type": "markdown",
      "source": [
        "# Save the model"
      ],
      "metadata": {
        "id": "CwERnlTA0J-W"
      }
    },
    {
      "cell_type": "code",
      "source": [
        "with open('/content/drive/MyDrive/Churn Prediction/NN_Churn.pkl', 'wb') as file:\n",
        "    dill.dump(model, file)"
      ],
      "metadata": {
        "id": "xfp6BRKAsVyu"
      },
      "execution_count": 29,
      "outputs": []
    }
  ]
}