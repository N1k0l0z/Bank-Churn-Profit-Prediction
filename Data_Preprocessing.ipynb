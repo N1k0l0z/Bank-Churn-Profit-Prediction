{
  "nbformat": 4,
  "nbformat_minor": 0,
  "metadata": {
    "colab": {
      "provenance": []
    },
    "kernelspec": {
      "name": "python3",
      "display_name": "Python 3"
    },
    "language_info": {
      "name": "python"
    }
  },
  "cells": [
    {
      "cell_type": "code",
      "execution_count": 4,
      "metadata": {
        "colab": {
          "base_uri": "https://localhost:8080/"
        },
        "id": "iUGGARfhG59I",
        "outputId": "6114f00e-ac2f-44d1-d9e4-ac06ff229064"
      },
      "outputs": [
        {
          "output_type": "stream",
          "name": "stdout",
          "text": [
            "Drive already mounted at /content/drive; to attempt to forcibly remount, call drive.mount(\"/content/drive\", force_remount=True).\n"
          ]
        }
      ],
      "source": [
        "from google.colab import drive\n",
        "drive.mount('/content/drive')"
      ]
    },
    {
      "cell_type": "markdown",
      "source": [
        "# Import desired libraries"
      ],
      "metadata": {
        "id": "Aqw872GwOZaJ"
      }
    },
    {
      "cell_type": "code",
      "source": [
        "import pandas as pd\n",
        "import numpy as np\n",
        "from sklearn.pipeline import Pipeline\n",
        "from sklearn.base import BaseEstimator, TransformerMixin\n",
        "from sklearn.model_selection import train_test_split\n",
        "from scipy.stats import norm\n",
        "import matplotlib.pyplot as plt\n",
        "import seaborn as sns\n",
        "from sklearn.impute import SimpleImputer\n",
        "from sklearn.preprocessing import MinMaxScaler\n",
        "from sklearn.preprocessing import QuantileTransformer\n",
        "from sklearn.cluster import DBSCAN\n",
        "from imblearn.under_sampling import TomekLinks\n",
        "from sklearn.utils import resample\n",
        "from sklearn.decomposition import PCA\n",
        "import dill\n",
        "import pickle"
      ],
      "metadata": {
        "id": "vKojVv5rItaQ"
      },
      "execution_count": 30,
      "outputs": []
    },
    {
      "cell_type": "markdown",
      "source": [
        "Data source link:https://www.kaggle.com/datasets/fridrichmrtn/e-commerce-churn-dataset-rees46"
      ],
      "metadata": {
        "id": "fjUQz0qzOQnb"
      }
    },
    {
      "cell_type": "code",
      "source": [
        "data = pd.read_csv('/content/drive/MyDrive/Churn Prediction/churn_data.csv')\n",
        "dictionary = pd.read_csv('/content/drive/MyDrive/Churn Prediction/dictionary.csv', encoding='latin-1')"
      ],
      "metadata": {
        "id": "k_P1CIgaHatO"
      },
      "execution_count": 6,
      "outputs": []
    },
    {
      "cell_type": "code",
      "source": [
        "dictionary.head()"
      ],
      "metadata": {
        "colab": {
          "base_uri": "https://localhost:8080/",
          "height": 206
        },
        "id": "iMAP47X_I0-q",
        "outputId": "896d6c93-4de5-4d05-9bbc-bae761dc54f1"
      },
      "execution_count": 7,
      "outputs": [
        {
          "output_type": "execute_result",
          "data": {
            "text/plain": [
              "         Set                  Attribute  \\\n",
              "0  Dependent                churn event   \n",
              "1  Dependent  retention campaign profit   \n",
              "2    Recency            session recency   \n",
              "3    Recency           purchase recency   \n",
              "4    Recency            time to session   \n",
              "\n",
              "                                      Description         Variable name  \n",
              "0                No transaction in future period.          target_event  \n",
              "1            Incremental profit in future period.  target_actual_profit  \n",
              "2      time duration from the last session [days]       session_recency  \n",
              "3  time duration from the last transaction [days]      purchase_recency  \n",
              "4                    time between sessions [days]    inter_session_time  "
            ],
            "text/html": [
              "\n",
              "  <div id=\"df-16e593c8-941e-4412-950c-8dfeb897fe5c\" class=\"colab-df-container\">\n",
              "    <div>\n",
              "<style scoped>\n",
              "    .dataframe tbody tr th:only-of-type {\n",
              "        vertical-align: middle;\n",
              "    }\n",
              "\n",
              "    .dataframe tbody tr th {\n",
              "        vertical-align: top;\n",
              "    }\n",
              "\n",
              "    .dataframe thead th {\n",
              "        text-align: right;\n",
              "    }\n",
              "</style>\n",
              "<table border=\"1\" class=\"dataframe\">\n",
              "  <thead>\n",
              "    <tr style=\"text-align: right;\">\n",
              "      <th></th>\n",
              "      <th>Set</th>\n",
              "      <th>Attribute</th>\n",
              "      <th>Description</th>\n",
              "      <th>Variable name</th>\n",
              "    </tr>\n",
              "  </thead>\n",
              "  <tbody>\n",
              "    <tr>\n",
              "      <th>0</th>\n",
              "      <td>Dependent</td>\n",
              "      <td>churn event</td>\n",
              "      <td>No transaction in future period.</td>\n",
              "      <td>target_event</td>\n",
              "    </tr>\n",
              "    <tr>\n",
              "      <th>1</th>\n",
              "      <td>Dependent</td>\n",
              "      <td>retention campaign profit</td>\n",
              "      <td>Incremental profit in future period.</td>\n",
              "      <td>target_actual_profit</td>\n",
              "    </tr>\n",
              "    <tr>\n",
              "      <th>2</th>\n",
              "      <td>Recency</td>\n",
              "      <td>session recency</td>\n",
              "      <td>time duration from the last session [days]</td>\n",
              "      <td>session_recency</td>\n",
              "    </tr>\n",
              "    <tr>\n",
              "      <th>3</th>\n",
              "      <td>Recency</td>\n",
              "      <td>purchase recency</td>\n",
              "      <td>time duration from the last transaction [days]</td>\n",
              "      <td>purchase_recency</td>\n",
              "    </tr>\n",
              "    <tr>\n",
              "      <th>4</th>\n",
              "      <td>Recency</td>\n",
              "      <td>time to session</td>\n",
              "      <td>time between sessions [days]</td>\n",
              "      <td>inter_session_time</td>\n",
              "    </tr>\n",
              "  </tbody>\n",
              "</table>\n",
              "</div>\n",
              "    <div class=\"colab-df-buttons\">\n",
              "\n",
              "  <div class=\"colab-df-container\">\n",
              "    <button class=\"colab-df-convert\" onclick=\"convertToInteractive('df-16e593c8-941e-4412-950c-8dfeb897fe5c')\"\n",
              "            title=\"Convert this dataframe to an interactive table.\"\n",
              "            style=\"display:none;\">\n",
              "\n",
              "  <svg xmlns=\"http://www.w3.org/2000/svg\" height=\"24px\" viewBox=\"0 -960 960 960\">\n",
              "    <path d=\"M120-120v-720h720v720H120Zm60-500h600v-160H180v160Zm220 220h160v-160H400v160Zm0 220h160v-160H400v160ZM180-400h160v-160H180v160Zm440 0h160v-160H620v160ZM180-180h160v-160H180v160Zm440 0h160v-160H620v160Z\"/>\n",
              "  </svg>\n",
              "    </button>\n",
              "\n",
              "  <style>\n",
              "    .colab-df-container {\n",
              "      display:flex;\n",
              "      gap: 12px;\n",
              "    }\n",
              "\n",
              "    .colab-df-convert {\n",
              "      background-color: #E8F0FE;\n",
              "      border: none;\n",
              "      border-radius: 50%;\n",
              "      cursor: pointer;\n",
              "      display: none;\n",
              "      fill: #1967D2;\n",
              "      height: 32px;\n",
              "      padding: 0 0 0 0;\n",
              "      width: 32px;\n",
              "    }\n",
              "\n",
              "    .colab-df-convert:hover {\n",
              "      background-color: #E2EBFA;\n",
              "      box-shadow: 0px 1px 2px rgba(60, 64, 67, 0.3), 0px 1px 3px 1px rgba(60, 64, 67, 0.15);\n",
              "      fill: #174EA6;\n",
              "    }\n",
              "\n",
              "    .colab-df-buttons div {\n",
              "      margin-bottom: 4px;\n",
              "    }\n",
              "\n",
              "    [theme=dark] .colab-df-convert {\n",
              "      background-color: #3B4455;\n",
              "      fill: #D2E3FC;\n",
              "    }\n",
              "\n",
              "    [theme=dark] .colab-df-convert:hover {\n",
              "      background-color: #434B5C;\n",
              "      box-shadow: 0px 1px 3px 1px rgba(0, 0, 0, 0.15);\n",
              "      filter: drop-shadow(0px 1px 2px rgba(0, 0, 0, 0.3));\n",
              "      fill: #FFFFFF;\n",
              "    }\n",
              "  </style>\n",
              "\n",
              "    <script>\n",
              "      const buttonEl =\n",
              "        document.querySelector('#df-16e593c8-941e-4412-950c-8dfeb897fe5c button.colab-df-convert');\n",
              "      buttonEl.style.display =\n",
              "        google.colab.kernel.accessAllowed ? 'block' : 'none';\n",
              "\n",
              "      async function convertToInteractive(key) {\n",
              "        const element = document.querySelector('#df-16e593c8-941e-4412-950c-8dfeb897fe5c');\n",
              "        const dataTable =\n",
              "          await google.colab.kernel.invokeFunction('convertToInteractive',\n",
              "                                                    [key], {});\n",
              "        if (!dataTable) return;\n",
              "\n",
              "        const docLinkHtml = 'Like what you see? Visit the ' +\n",
              "          '<a target=\"_blank\" href=https://colab.research.google.com/notebooks/data_table.ipynb>data table notebook</a>'\n",
              "          + ' to learn more about interactive tables.';\n",
              "        element.innerHTML = '';\n",
              "        dataTable['output_type'] = 'display_data';\n",
              "        await google.colab.output.renderOutput(dataTable, element);\n",
              "        const docLink = document.createElement('div');\n",
              "        docLink.innerHTML = docLinkHtml;\n",
              "        element.appendChild(docLink);\n",
              "      }\n",
              "    </script>\n",
              "  </div>\n",
              "\n",
              "\n",
              "<div id=\"df-b40dbe1f-3900-42b3-9757-d2b06ec4d4d1\">\n",
              "  <button class=\"colab-df-quickchart\" onclick=\"quickchart('df-b40dbe1f-3900-42b3-9757-d2b06ec4d4d1')\"\n",
              "            title=\"Suggest charts\"\n",
              "            style=\"display:none;\">\n",
              "\n",
              "<svg xmlns=\"http://www.w3.org/2000/svg\" height=\"24px\"viewBox=\"0 0 24 24\"\n",
              "     width=\"24px\">\n",
              "    <g>\n",
              "        <path d=\"M19 3H5c-1.1 0-2 .9-2 2v14c0 1.1.9 2 2 2h14c1.1 0 2-.9 2-2V5c0-1.1-.9-2-2-2zM9 17H7v-7h2v7zm4 0h-2V7h2v10zm4 0h-2v-4h2v4z\"/>\n",
              "    </g>\n",
              "</svg>\n",
              "  </button>\n",
              "\n",
              "<style>\n",
              "  .colab-df-quickchart {\n",
              "      --bg-color: #E8F0FE;\n",
              "      --fill-color: #1967D2;\n",
              "      --hover-bg-color: #E2EBFA;\n",
              "      --hover-fill-color: #174EA6;\n",
              "      --disabled-fill-color: #AAA;\n",
              "      --disabled-bg-color: #DDD;\n",
              "  }\n",
              "\n",
              "  [theme=dark] .colab-df-quickchart {\n",
              "      --bg-color: #3B4455;\n",
              "      --fill-color: #D2E3FC;\n",
              "      --hover-bg-color: #434B5C;\n",
              "      --hover-fill-color: #FFFFFF;\n",
              "      --disabled-bg-color: #3B4455;\n",
              "      --disabled-fill-color: #666;\n",
              "  }\n",
              "\n",
              "  .colab-df-quickchart {\n",
              "    background-color: var(--bg-color);\n",
              "    border: none;\n",
              "    border-radius: 50%;\n",
              "    cursor: pointer;\n",
              "    display: none;\n",
              "    fill: var(--fill-color);\n",
              "    height: 32px;\n",
              "    padding: 0;\n",
              "    width: 32px;\n",
              "  }\n",
              "\n",
              "  .colab-df-quickchart:hover {\n",
              "    background-color: var(--hover-bg-color);\n",
              "    box-shadow: 0 1px 2px rgba(60, 64, 67, 0.3), 0 1px 3px 1px rgba(60, 64, 67, 0.15);\n",
              "    fill: var(--button-hover-fill-color);\n",
              "  }\n",
              "\n",
              "  .colab-df-quickchart-complete:disabled,\n",
              "  .colab-df-quickchart-complete:disabled:hover {\n",
              "    background-color: var(--disabled-bg-color);\n",
              "    fill: var(--disabled-fill-color);\n",
              "    box-shadow: none;\n",
              "  }\n",
              "\n",
              "  .colab-df-spinner {\n",
              "    border: 2px solid var(--fill-color);\n",
              "    border-color: transparent;\n",
              "    border-bottom-color: var(--fill-color);\n",
              "    animation:\n",
              "      spin 1s steps(1) infinite;\n",
              "  }\n",
              "\n",
              "  @keyframes spin {\n",
              "    0% {\n",
              "      border-color: transparent;\n",
              "      border-bottom-color: var(--fill-color);\n",
              "      border-left-color: var(--fill-color);\n",
              "    }\n",
              "    20% {\n",
              "      border-color: transparent;\n",
              "      border-left-color: var(--fill-color);\n",
              "      border-top-color: var(--fill-color);\n",
              "    }\n",
              "    30% {\n",
              "      border-color: transparent;\n",
              "      border-left-color: var(--fill-color);\n",
              "      border-top-color: var(--fill-color);\n",
              "      border-right-color: var(--fill-color);\n",
              "    }\n",
              "    40% {\n",
              "      border-color: transparent;\n",
              "      border-right-color: var(--fill-color);\n",
              "      border-top-color: var(--fill-color);\n",
              "    }\n",
              "    60% {\n",
              "      border-color: transparent;\n",
              "      border-right-color: var(--fill-color);\n",
              "    }\n",
              "    80% {\n",
              "      border-color: transparent;\n",
              "      border-right-color: var(--fill-color);\n",
              "      border-bottom-color: var(--fill-color);\n",
              "    }\n",
              "    90% {\n",
              "      border-color: transparent;\n",
              "      border-bottom-color: var(--fill-color);\n",
              "    }\n",
              "  }\n",
              "</style>\n",
              "\n",
              "  <script>\n",
              "    async function quickchart(key) {\n",
              "      const quickchartButtonEl =\n",
              "        document.querySelector('#' + key + ' button');\n",
              "      quickchartButtonEl.disabled = true;  // To prevent multiple clicks.\n",
              "      quickchartButtonEl.classList.add('colab-df-spinner');\n",
              "      try {\n",
              "        const charts = await google.colab.kernel.invokeFunction(\n",
              "            'suggestCharts', [key], {});\n",
              "      } catch (error) {\n",
              "        console.error('Error during call to suggestCharts:', error);\n",
              "      }\n",
              "      quickchartButtonEl.classList.remove('colab-df-spinner');\n",
              "      quickchartButtonEl.classList.add('colab-df-quickchart-complete');\n",
              "    }\n",
              "    (() => {\n",
              "      let quickchartButtonEl =\n",
              "        document.querySelector('#df-b40dbe1f-3900-42b3-9757-d2b06ec4d4d1 button');\n",
              "      quickchartButtonEl.style.display =\n",
              "        google.colab.kernel.accessAllowed ? 'block' : 'none';\n",
              "    })();\n",
              "  </script>\n",
              "</div>\n",
              "\n",
              "    </div>\n",
              "  </div>\n"
            ],
            "application/vnd.google.colaboratory.intrinsic+json": {
              "type": "dataframe",
              "variable_name": "dictionary",
              "summary": "{\n  \"name\": \"dictionary\",\n  \"rows\": 46,\n  \"fields\": [\n    {\n      \"column\": \"Set\",\n      \"properties\": {\n        \"dtype\": \"category\",\n        \"num_unique_values\": 7,\n        \"samples\": [\n          \"Dependent\",\n          \"Recency\",\n          \"Date & time\"\n        ],\n        \"semantic_type\": \"\",\n        \"description\": \"\"\n      }\n    },\n    {\n      \"column\": \"Attribute\",\n      \"properties\": {\n        \"dtype\": \"string\",\n        \"num_unique_values\": 45,\n        \"samples\": [\n          \"time to add-to-cart\",\n          \"customer value, with lags *\",\n          \"ma of customer value *\"\n        ],\n        \"semantic_type\": \"\",\n        \"description\": \"\"\n      }\n    },\n    {\n      \"column\": \"Description\",\n      \"properties\": {\n        \"dtype\": \"string\",\n        \"num_unique_values\": 46,\n        \"samples\": [\n          \"average duration between adding products to\\u00a0cart\\u00a0[min]\",\n          \"monthly customer value, with lags [CU]\",\n          \"moving average of monthly total customer value [CU]\"\n        ],\n        \"semantic_type\": \"\",\n        \"description\": \"\"\n      }\n    },\n    {\n      \"column\": \"Variable name\",\n      \"properties\": {\n        \"dtype\": \"string\",\n        \"num_unique_values\": 46,\n        \"samples\": [\n          \"time_to_cart\",\n          \"customer_value_month_lag\",\n          \"customer_value_month_ma\"\n        ],\n        \"semantic_type\": \"\",\n        \"description\": \"\"\n      }\n    }\n  ]\n}"
            }
          },
          "metadata": {},
          "execution_count": 7
        }
      ]
    },
    {
      "cell_type": "markdown",
      "source": [
        "Term **'Target period'** refers to the future time period for which you are making predictions. It is the period you aim to predict outcomes for, such as customer churn, revenue, or profit.\n",
        "\n",
        "**Dependent variables:**\n",
        "* target_event ==> churn event ==> No transaction in future period.\n",
        "* target_actual_profit ==> retention campaign profit ==> Incremental profit in future period. Profit retained or lost based on campaigns.\n",
        "\n",
        "**Useless variables:**\n",
        "* target_revenue ==> This is the revenue generated by the customer during the target period (the period you are predicting). It represents how much money the customer spent or generated for the company during this period.\n",
        "* target_customer_value ==> This is the total value or contribution of the customer in the current period. It's an aggregate measure of how valuable a customer is right now (based on revenue, engagement, etc.).\n",
        "\n",
        "**Independent Variable:**\n",
        "* target_customer_value_lag1 ==> This is the customer’s value in the previous period (one period before the current one). It shows their past contribution or engagement."
      ],
      "metadata": {
        "id": "JHz1Fc_yM8RE"
      }
    },
    {
      "cell_type": "markdown",
      "source": [
        "# Check data types in each columns"
      ],
      "metadata": {
        "id": "P9s33c6CUCkI"
      }
    },
    {
      "cell_type": "code",
      "source": [
        "data.info(verbose = True)"
      ],
      "metadata": {
        "colab": {
          "base_uri": "https://localhost:8080/"
        },
        "collapsed": true,
        "id": "DzStH-mATTXt",
        "outputId": "7fd65717-d6c9-4c9c-c9e6-e750c80ac4af"
      },
      "execution_count": 8,
      "outputs": [
        {
          "output_type": "stream",
          "name": "stdout",
          "text": [
            "<class 'pandas.core.frame.DataFrame'>\n",
            "RangeIndex: 112610 entries, 0 to 112609\n",
            "Data columns (total 276 columns):\n",
            " #    Column                           Dtype  \n",
            "---   ------                           -----  \n",
            " 0    row_id                           int64  \n",
            " 1    user_id                          int64  \n",
            " 2    length_mean                      float64\n",
            " 3    start_year_mean                  float64\n",
            " 4    start_yearday_mean               float64\n",
            " 5    start_month_mean                 float64\n",
            " 6    start_monthday_mean              float64\n",
            " 7    start_week_mean                  float64\n",
            " 8    start_weekday_mean               float64\n",
            " 9    start_isweekend_mean             float64\n",
            " 10   start_hour_mean                  float64\n",
            " 11   haspurchase_mean                 float64\n",
            " 12   click_count_mean                 float64\n",
            " 13   view_count_mean                  float64\n",
            " 14   cart_count_mean                  float64\n",
            " 15   purchase_count_mean              float64\n",
            " 16   time_to_click_mean               float64\n",
            " 17   time_to_view_mean                float64\n",
            " 18   time_to_cart_mean                float64\n",
            " 19   time_to_purchase_mean            float64\n",
            " 20   view_revenue_mean                float64\n",
            " 21   cart_revenue_mean                float64\n",
            " 22   purchase_revenue_mean            float64\n",
            " 23   time_to_click_revenue_mean       float64\n",
            " 24   time_to_view_revenue_mean        float64\n",
            " 25   time_to_cart_revenue_mean        float64\n",
            " 26   time_to_purchase_revenue_mean    float64\n",
            " 27   session_number_mean              float64\n",
            " 28   inter_session_time_mean          float64\n",
            " 29   session_recency_mean             float64\n",
            " 30   purchase_number_mean             float64\n",
            " 31   inter_purchase_time_mean         float64\n",
            " 32   purchase_recency_mean            float64\n",
            " 33   length_sum                       float64\n",
            " 34   start_year_sum                   int64  \n",
            " 35   start_yearday_sum                int64  \n",
            " 36   start_month_sum                  int64  \n",
            " 37   start_monthday_sum               int64  \n",
            " 38   start_week_sum                   int64  \n",
            " 39   start_weekday_sum                int64  \n",
            " 40   start_isweekend_sum              int64  \n",
            " 41   start_hour_sum                   int64  \n",
            " 42   haspurchase_sum                  int64  \n",
            " 43   click_count_sum                  int64  \n",
            " 44   view_count_sum                   int64  \n",
            " 45   cart_count_sum                   int64  \n",
            " 46   purchase_count_sum               int64  \n",
            " 47   time_to_click_sum                float64\n",
            " 48   time_to_view_sum                 float64\n",
            " 49   time_to_cart_sum                 float64\n",
            " 50   time_to_purchase_sum             float64\n",
            " 51   view_revenue_sum                 float64\n",
            " 52   cart_revenue_sum                 float64\n",
            " 53   purchase_revenue_sum             float64\n",
            " 54   time_to_click_revenue_sum        float64\n",
            " 55   time_to_view_revenue_sum         float64\n",
            " 56   time_to_cart_revenue_sum         float64\n",
            " 57   time_to_purchase_revenue_sum     float64\n",
            " 58   session_number_sum               int64  \n",
            " 59   inter_session_time_sum           float64\n",
            " 60   session_recency_sum              float64\n",
            " 61   purchase_number_sum              int64  \n",
            " 62   inter_purchase_time_sum          float64\n",
            " 63   purchase_recency_sum             float64\n",
            " 64   length_min                       float64\n",
            " 65   start_year_min                   int64  \n",
            " 66   start_yearday_min                int64  \n",
            " 67   start_month_min                  int64  \n",
            " 68   start_monthday_min               int64  \n",
            " 69   start_week_min                   int64  \n",
            " 70   start_weekday_min                int64  \n",
            " 71   start_isweekend_min              int64  \n",
            " 72   start_hour_min                   int64  \n",
            " 73   haspurchase_min                  int64  \n",
            " 74   click_count_min                  int64  \n",
            " 75   view_count_min                   int64  \n",
            " 76   cart_count_min                   int64  \n",
            " 77   purchase_count_min               int64  \n",
            " 78   time_to_click_min                float64\n",
            " 79   time_to_view_min                 float64\n",
            " 80   time_to_cart_min                 float64\n",
            " 81   time_to_purchase_min             float64\n",
            " 82   view_revenue_min                 float64\n",
            " 83   cart_revenue_min                 float64\n",
            " 84   purchase_revenue_min             float64\n",
            " 85   time_to_click_revenue_min        float64\n",
            " 86   time_to_view_revenue_min         float64\n",
            " 87   time_to_cart_revenue_min         float64\n",
            " 88   time_to_purchase_revenue_min     float64\n",
            " 89   session_number_min               int64  \n",
            " 90   inter_session_time_min           float64\n",
            " 91   session_recency_min              float64\n",
            " 92   purchase_number_min              int64  \n",
            " 93   inter_purchase_time_min          float64\n",
            " 94   purchase_recency_min             float64\n",
            " 95   length_max                       float64\n",
            " 96   start_year_max                   int64  \n",
            " 97   start_yearday_max                int64  \n",
            " 98   start_month_max                  int64  \n",
            " 99   start_monthday_max               int64  \n",
            " 100  start_week_max                   int64  \n",
            " 101  start_weekday_max                int64  \n",
            " 102  start_isweekend_max              int64  \n",
            " 103  start_hour_max                   int64  \n",
            " 104  haspurchase_max                  int64  \n",
            " 105  click_count_max                  int64  \n",
            " 106  view_count_max                   int64  \n",
            " 107  cart_count_max                   int64  \n",
            " 108  purchase_count_max               int64  \n",
            " 109  time_to_click_max                float64\n",
            " 110  time_to_view_max                 float64\n",
            " 111  time_to_cart_max                 float64\n",
            " 112  time_to_purchase_max             float64\n",
            " 113  view_revenue_max                 float64\n",
            " 114  cart_revenue_max                 float64\n",
            " 115  purchase_revenue_max             float64\n",
            " 116  time_to_click_revenue_max        float64\n",
            " 117  time_to_view_revenue_max         float64\n",
            " 118  time_to_cart_revenue_max         float64\n",
            " 119  time_to_purchase_revenue_max     float64\n",
            " 120  session_number_max               int64  \n",
            " 121  inter_session_time_max           float64\n",
            " 122  session_recency_max              float64\n",
            " 123  purchase_number_max              int64  \n",
            " 124  inter_purchase_time_max          float64\n",
            " 125  purchase_recency_max             float64\n",
            " 126  length_stddev                    float64\n",
            " 127  start_year_stddev                float64\n",
            " 128  start_yearday_stddev             float64\n",
            " 129  start_month_stddev               float64\n",
            " 130  start_monthday_stddev            float64\n",
            " 131  start_week_stddev                float64\n",
            " 132  start_weekday_stddev             float64\n",
            " 133  start_isweekend_stddev           float64\n",
            " 134  start_hour_stddev                float64\n",
            " 135  haspurchase_stddev               float64\n",
            " 136  click_count_stddev               float64\n",
            " 137  view_count_stddev                float64\n",
            " 138  cart_count_stddev                float64\n",
            " 139  purchase_count_stddev            float64\n",
            " 140  time_to_click_stddev             float64\n",
            " 141  time_to_view_stddev              float64\n",
            " 142  time_to_cart_stddev              float64\n",
            " 143  time_to_purchase_stddev          float64\n",
            " 144  view_revenue_stddev              float64\n",
            " 145  cart_revenue_stddev              float64\n",
            " 146  purchase_revenue_stddev          float64\n",
            " 147  time_to_click_revenue_stddev     float64\n",
            " 148  time_to_view_revenue_stddev      float64\n",
            " 149  time_to_cart_revenue_stddev      float64\n",
            " 150  time_to_purchase_revenue_stddev  float64\n",
            " 151  session_number_stddev            float64\n",
            " 152  inter_session_time_stddev        float64\n",
            " 153  session_recency_stddev           float64\n",
            " 154  purchase_number_stddev           float64\n",
            " 155  inter_purchase_time_stddev       float64\n",
            " 156  purchase_recency_stddev          float64\n",
            " 157  length_cv                        float64\n",
            " 158  start_year_cv                    float64\n",
            " 159  start_yearday_cv                 float64\n",
            " 160  start_month_cv                   float64\n",
            " 161  start_monthday_cv                float64\n",
            " 162  start_week_cv                    float64\n",
            " 163  start_weekday_cv                 float64\n",
            " 164  start_isweekend_cv               float64\n",
            " 165  start_hour_cv                    float64\n",
            " 166  haspurchase_cv                   float64\n",
            " 167  click_count_cv                   float64\n",
            " 168  view_count_cv                    float64\n",
            " 169  cart_count_cv                    float64\n",
            " 170  purchase_count_cv                float64\n",
            " 171  time_to_click_cv                 float64\n",
            " 172  time_to_view_cv                  float64\n",
            " 173  time_to_cart_cv                  float64\n",
            " 174  time_to_purchase_cv              float64\n",
            " 175  view_revenue_cv                  float64\n",
            " 176  cart_revenue_cv                  float64\n",
            " 177  purchase_revenue_cv              float64\n",
            " 178  time_to_click_revenue_cv         float64\n",
            " 179  time_to_view_revenue_cv          float64\n",
            " 180  time_to_cart_revenue_cv          float64\n",
            " 181  time_to_purchase_revenue_cv      float64\n",
            " 182  session_number_cv                float64\n",
            " 183  inter_session_time_cv            float64\n",
            " 184  session_recency_cv               float64\n",
            " 185  purchase_number_cv               float64\n",
            " 186  inter_purchase_time_cv           float64\n",
            " 187  purchase_recency_cv              float64\n",
            " 188  session_count_ratio              float64\n",
            " 189  click_count_ratio                float64\n",
            " 190  transaction_count_ratio          float64\n",
            " 191  session_count_month_lag0         int64  \n",
            " 192  session_count_month_lag1         int64  \n",
            " 193  session_count_month_lag2         int64  \n",
            " 194  session_count_month_lag3         int64  \n",
            " 195  session_count_month_ma3          float64\n",
            " 196  purchase_count_month_lag0        int64  \n",
            " 197  purchase_count_month_lag1        int64  \n",
            " 198  purchase_count_month_lag2        int64  \n",
            " 199  purchase_count_month_lag3        int64  \n",
            " 200  purchase_count_month_ma3         float64\n",
            " 201  purchase_revenue_month_lag0      float64\n",
            " 202  purchase_revenue_month_lag1      float64\n",
            " 203  purchase_revenue_month_lag2      float64\n",
            " 204  purchase_revenue_month_lag3      float64\n",
            " 205  purchase_revenue_month_ma3       float64\n",
            " 206  customer_value_month_lag0        float64\n",
            " 207  customer_value_month_lag1        float64\n",
            " 208  customer_value_month_lag2        float64\n",
            " 209  customer_value_month_lag3        float64\n",
            " 210  customer_value_month_ma3         float64\n",
            " 211  view_latent_factor0              float64\n",
            " 212  view_latent_factor1              float64\n",
            " 213  view_latent_factor2              float64\n",
            " 214  view_latent_factor3              float64\n",
            " 215  view_latent_factor4              float64\n",
            " 216  view_latent_factor5              float64\n",
            " 217  view_latent_factor6              float64\n",
            " 218  view_latent_factor7              float64\n",
            " 219  view_latent_factor8              float64\n",
            " 220  view_latent_factor9              float64\n",
            " 221  view_latent_factor10             float64\n",
            " 222  view_latent_factor11             float64\n",
            " 223  view_latent_factor12             float64\n",
            " 224  view_latent_factor13             float64\n",
            " 225  view_latent_factor14             float64\n",
            " 226  view_latent_factor15             float64\n",
            " 227  view_latent_factor16             float64\n",
            " 228  view_latent_factor17             float64\n",
            " 229  view_latent_factor18             float64\n",
            " 230  view_latent_factor19             float64\n",
            " 231  view_latent_factor20             float64\n",
            " 232  view_latent_factor21             float64\n",
            " 233  view_latent_factor22             float64\n",
            " 234  view_latent_factor23             float64\n",
            " 235  view_latent_factor24             float64\n",
            " 236  view_latent_factor25             float64\n",
            " 237  view_latent_factor26             float64\n",
            " 238  view_latent_factor27             float64\n",
            " 239  view_latent_factor28             float64\n",
            " 240  view_latent_factor29             float64\n",
            " 241  view_latent_factor30             float64\n",
            " 242  view_latent_factor31             float64\n",
            " 243  view_latent_factor32             float64\n",
            " 244  view_latent_factor33             float64\n",
            " 245  view_latent_factor34             float64\n",
            " 246  view_latent_factor35             float64\n",
            " 247  view_latent_factor36             float64\n",
            " 248  view_latent_factor37             float64\n",
            " 249  view_latent_factor38             float64\n",
            " 250  view_latent_factor39             float64\n",
            " 251  view_latent_factor40             float64\n",
            " 252  purchase_latent_factor0          float64\n",
            " 253  purchase_latent_factor1          float64\n",
            " 254  purchase_latent_factor2          float64\n",
            " 255  purchase_latent_factor3          float64\n",
            " 256  purchase_latent_factor4          float64\n",
            " 257  purchase_latent_factor5          float64\n",
            " 258  purchase_latent_factor6          float64\n",
            " 259  purchase_latent_factor7          float64\n",
            " 260  purchase_latent_factor8          float64\n",
            " 261  purchase_latent_factor9          float64\n",
            " 262  purchase_latent_factor10         float64\n",
            " 263  purchase_latent_factor11         float64\n",
            " 264  purchase_latent_factor12         float64\n",
            " 265  purchase_latent_factor13         float64\n",
            " 266  purchase_latent_factor14         float64\n",
            " 267  purchase_latent_factor15         float64\n",
            " 268  purchase_latent_factor16         float64\n",
            " 269  purchase_latent_factor17         float64\n",
            " 270  target_event                     int64  \n",
            " 271  target_revenue                   float64\n",
            " 272  target_customer_value            float64\n",
            " 273  time_step                        int64  \n",
            " 274  target_customer_value_lag1       float64\n",
            " 275  target_actual_profit             float64\n",
            "dtypes: float64(219), int64(57)\n",
            "memory usage: 237.1 MB\n"
          ]
        }
      ]
    },
    {
      "cell_type": "markdown",
      "source": [
        "# Deduplication"
      ],
      "metadata": {
        "id": "duu5FPIGiVg3"
      }
    },
    {
      "cell_type": "code",
      "source": [
        "data.shape"
      ],
      "metadata": {
        "colab": {
          "base_uri": "https://localhost:8080/"
        },
        "id": "fx9zfQVuicEn",
        "outputId": "9e66c5c7-0db8-44fe-afdd-86a7d816c183"
      },
      "execution_count": 9,
      "outputs": [
        {
          "output_type": "execute_result",
          "data": {
            "text/plain": [
              "(112610, 276)"
            ]
          },
          "metadata": {},
          "execution_count": 9
        }
      ]
    },
    {
      "cell_type": "code",
      "source": [
        "subset = data.columns[2:].to_list() + data.columns[:-7].to_list() + [data.columns[-3]]\n",
        "data = data.drop_duplicates(subset=subset)"
      ],
      "metadata": {
        "id": "UkhHxuMjiUqW"
      },
      "execution_count": 10,
      "outputs": []
    },
    {
      "cell_type": "code",
      "source": [
        "data.shape"
      ],
      "metadata": {
        "colab": {
          "base_uri": "https://localhost:8080/"
        },
        "id": "OsFIENVsj1oG",
        "outputId": "bf8af8da-1c09-47c6-8f6e-5983e48e2801"
      },
      "execution_count": 11,
      "outputs": [
        {
          "output_type": "execute_result",
          "data": {
            "text/plain": [
              "(112610, 276)"
            ]
          },
          "metadata": {},
          "execution_count": 11
        }
      ]
    },
    {
      "cell_type": "markdown",
      "source": [
        "# Split data into train and test"
      ],
      "metadata": {
        "id": "xlzYipR5akXY"
      }
    },
    {
      "cell_type": "code",
      "source": [
        "X_train, X_test, y_train, y_test = train_test_split(data.drop(['target_event', 'target_actual_profit'], axis = 1), data[['target_event','target_actual_profit']], test_size=0.2, stratify=data['target_event'], shuffle=True, random_state=42)"
      ],
      "metadata": {
        "id": "yhZgzyQSapDJ"
      },
      "execution_count": 12,
      "outputs": []
    },
    {
      "cell_type": "code",
      "source": [
        "X_test.to_parquet('/content/drive/MyDrive/Churn Prediction/X_test')\n",
        "y_test.to_parquet('/content/drive/MyDrive/Churn Prediction/y_test')"
      ],
      "metadata": {
        "id": "9S26LvcNNkw6"
      },
      "execution_count": 13,
      "outputs": []
    },
    {
      "cell_type": "code",
      "source": [
        "X_train.shape, y_train.shape, X_test.shape, y_test.shape"
      ],
      "metadata": {
        "colab": {
          "base_uri": "https://localhost:8080/"
        },
        "id": "CmJ6VBWBGB1i",
        "outputId": "f090074d-8369-49d1-8e04-ef98570f1a45"
      },
      "execution_count": 14,
      "outputs": [
        {
          "output_type": "execute_result",
          "data": {
            "text/plain": [
              "((90088, 274), (90088, 2), (22522, 274), (22522, 2))"
            ]
          },
          "metadata": {},
          "execution_count": 14
        }
      ]
    },
    {
      "cell_type": "markdown",
      "source": [
        "# Drop unnecessary columns"
      ],
      "metadata": {
        "id": "IVU-t0hFUh2g"
      }
    },
    {
      "cell_type": "code",
      "source": [
        "class DropColumnsTransformer(BaseEstimator, TransformerMixin):\n",
        "    colls_to_drop = ['row_id', 'user_id', 'target_revenue', 'target_customer_value']\n",
        "\n",
        "    def __init__(self, columns = None):\n",
        "        self.columns = self.colls_to_drop\n",
        "\n",
        "    def fit(self, data, y=None):\n",
        "        for i in data.columns:\n",
        "            if data[i].value_counts().values[0] / data.shape[0] > 0.95:\n",
        "                self.columns.append(i)\n",
        "        self.columns = list(set(self.columns))\n",
        "        return self\n",
        "\n",
        "    def transform(self, data):\n",
        "        return data.drop(self.columns, axis=1)"
      ],
      "metadata": {
        "id": "9W2o7b6ZVJXa"
      },
      "execution_count": 15,
      "outputs": []
    },
    {
      "cell_type": "markdown",
      "source": [
        "# Missing value imputation"
      ],
      "metadata": {
        "id": "4u_4hqif1tA-"
      }
    },
    {
      "cell_type": "code",
      "source": [
        "class MissingValueImputationTransformer(BaseEstimator, TransformerMixin):\n",
        "    def __init__(self, strategy='median'):\n",
        "        self.strategy = strategy\n",
        "        self.imputer = None\n",
        "\n",
        "    def fit(self, X, y=None):\n",
        "        self.imputer = SimpleImputer(strategy=self.strategy)\n",
        "        self.imputer.fit(X)\n",
        "        return self\n",
        "\n",
        "    def transform(self, X):\n",
        "        if X.isnull().sum().sum() == 0:\n",
        "            return X\n",
        "        else:\n",
        "            X_transformed = self.imputer.transform(X)\n",
        "            return pd.DataFrame(X_transformed, index=X.index, columns=X.columns)\n",
        "\n",
        "    def fit_transform(self, X, y=None):\n",
        "        return self.fit(X, y).transform(X)"
      ],
      "metadata": {
        "id": "youIABSQ1sYf"
      },
      "execution_count": 16,
      "outputs": []
    },
    {
      "cell_type": "markdown",
      "source": [
        "# Outlier imputation"
      ],
      "metadata": {
        "id": "m3Oaogp6Xvk4"
      }
    },
    {
      "cell_type": "code",
      "source": [
        "class OutlierImputationTransformer(BaseEstimator, TransformerMixin):\n",
        "    def __init__(self, factor=2.5):\n",
        "        self.factor = factor\n",
        "        self.bounds_ = {}\n",
        "\n",
        "    def fit(self, X, y=None):\n",
        "        for col in X.columns:\n",
        "            Q1 = X[col].quantile(0.25)\n",
        "            Q3 = X[col].quantile(0.75)\n",
        "            IQR = Q3 - Q1\n",
        "            lower_bound = Q1 - self.factor * IQR\n",
        "            upper_bound = Q3 + self.factor * IQR\n",
        "            self.bounds_[col] = {'lower': lower_bound, 'upper': upper_bound}\n",
        "        return self\n",
        "\n",
        "    def transform(self, X):\n",
        "        X_transformed = X.copy()\n",
        "        for col in X.columns:\n",
        "            lower = self.bounds_[col]['lower']\n",
        "            upper = self.bounds_[col]['upper']\n",
        "            X_transformed[col] = X_transformed[col].clip(lower=lower, upper=upper)\n",
        "        return X_transformed\n",
        "\n",
        "    def fit_transform(self, X, y=None):\n",
        "        return self.fit(X, y).transform(X)"
      ],
      "metadata": {
        "id": "vi29ENLLXvNo"
      },
      "execution_count": 17,
      "outputs": []
    },
    {
      "cell_type": "markdown",
      "source": [
        "# Scaling"
      ],
      "metadata": {
        "id": "8wQsbblA2CHG"
      }
    },
    {
      "cell_type": "code",
      "source": [
        "class MinMaxScalerTransformer(BaseEstimator, TransformerMixin):\n",
        "    def __init__(self):\n",
        "        self.scaler = MinMaxScaler()\n",
        "\n",
        "    def fit(self, X, y=None):\n",
        "\n",
        "        self.scaler.fit(X)\n",
        "        return self\n",
        "\n",
        "    def transform(self, X):\n",
        "        X_scaled = self.scaler.transform(X)\n",
        "        return pd.DataFrame(X_scaled, columns=X.columns, index=X.index)\n",
        "\n",
        "    def fit_transform(self, X, y=None):\n",
        "        return self.fit(X, y).transform(X)"
      ],
      "metadata": {
        "id": "xDWvBGhM2BbO"
      },
      "execution_count": 18,
      "outputs": []
    },
    {
      "cell_type": "markdown",
      "source": [
        "# PCA - Dimension reduction"
      ],
      "metadata": {
        "id": "6kJqi-5IxETC"
      }
    },
    {
      "cell_type": "code",
      "source": [
        "class PCATransformer(BaseEstimator, TransformerMixin):\n",
        "    def __init__(self, n_components=0.95, svd_solver='full'):\n",
        "        self.n_components = n_components\n",
        "        self.svd_solver = svd_solver\n",
        "        self.pca = PCA(n_components=self.n_components, svd_solver=self.svd_solver)\n",
        "\n",
        "    def fit(self, X, y=None):\n",
        "        self.pca.fit(X)\n",
        "        return self\n",
        "\n",
        "    def transform(self, X):\n",
        "        X_transformed = self.pca.transform(X)\n",
        "\n",
        "        return pd.DataFrame(X_transformed, columns=[f'PC{i+1}' for i in range(self.pca.n_components_)])\n",
        "\n",
        "    def fit_transform(self, X, y=None):\n",
        "        return self.fit(X, y).transform(X)"
      ],
      "metadata": {
        "id": "AJSdA6C5zCBG"
      },
      "execution_count": 19,
      "outputs": []
    },
    {
      "cell_type": "markdown",
      "source": [
        "# Anomaly detection for train data"
      ],
      "metadata": {
        "id": "FTq7KpCKzk_e"
      }
    },
    {
      "cell_type": "code",
      "source": [
        "class AnomalyDetectionTransformer(BaseEstimator, TransformerMixin):\n",
        "    def __init__(self, eps = 3, min_samples=3):\n",
        "        self.eps = eps\n",
        "        self.min_samples = min_samples\n",
        "        self.dbscan = None\n",
        "\n",
        "    def fit(self, X, y=None):\n",
        "        self.dbscan = DBSCAN(eps=self.eps, min_samples=self.min_samples)\n",
        "        self.dbscan.fit(X)\n",
        "        return self\n",
        "\n",
        "    def transform(self, X, y=None):\n",
        "        labels = self.dbscan.labels_\n",
        "\n",
        "        outlier_indices = np.where(labels == -1)[0]\n",
        "\n",
        "        X_train = X.reset_index().drop(index=outlier_indices)\n",
        "        y_train = y.reset_index().drop(index=outlier_indices)\n",
        "        return X_train.drop(['index'], axis = 1), y_train.drop(['index'], axis = 1)\n",
        "\n",
        "    def fit_transform(self, X, y=None):\n",
        "        self.fit(X, y)\n",
        "        return self.transform(X, y)"
      ],
      "metadata": {
        "id": "mJu39d8BTS3m"
      },
      "execution_count": 20,
      "outputs": []
    },
    {
      "cell_type": "markdown",
      "source": [
        "# Tomek Link sampling method for train data"
      ],
      "metadata": {
        "id": "9nslXLSezpYG"
      }
    },
    {
      "cell_type": "code",
      "source": [
        "class TomekLinksSampler(BaseEstimator, TransformerMixin):\n",
        "    def __init__(self, sampling_strategy='majority', n_jobs=-1, target_column = 'target_event'):\n",
        "        self.sampling_strategy = sampling_strategy\n",
        "        self.n_jobs = n_jobs\n",
        "        self.target_column = target_column\n",
        "        self.tomek = TomekLinks(sampling_strategy=self.sampling_strategy, n_jobs=self.n_jobs)\n",
        "\n",
        "    def fit(self, X, y=None):\n",
        "        return self\n",
        "\n",
        "    def transform(self, data):\n",
        "        X, y = data\n",
        "        dt = pd.concat([X, y], axis=1)\n",
        "\n",
        "        X_train = dt.drop([self.target_column], axis=1)\n",
        "        y_train = dt[self.target_column]\n",
        "        X_resampled, y_resampled = self.tomek.fit_resample(X_train, y_train)\n",
        "\n",
        "        new_data = pd.concat([X_resampled, y_resampled], axis=1)\n",
        "        return new_data.drop([self.target_column, 'target_actual_profit'], axis=1), new_data[[self.target_column, 'target_actual_profit']]"
      ],
      "metadata": {
        "id": "zKIA74-vnRjk"
      },
      "execution_count": 21,
      "outputs": []
    },
    {
      "cell_type": "markdown",
      "source": [
        "# Oversampling method for train data"
      ],
      "metadata": {
        "id": "dcc6cV5mzwgu"
      }
    },
    {
      "cell_type": "code",
      "source": [
        "class OversamplingTransformer(BaseEstimator, TransformerMixin):\n",
        "    def __init__(self, target_column='target_event'):\n",
        "        self.target_column = target_column\n",
        "\n",
        "    def fit(self, X, y=None):\n",
        "        return self\n",
        "\n",
        "    def transform(self, data):\n",
        "        X, y = data\n",
        "        data = pd.concat([X, y.reset_index(drop=True)], axis=1)\n",
        "\n",
        "        majority_class = data[data[self.target_column] == 0]\n",
        "        minority_class = data[data[self.target_column] == 1]\n",
        "\n",
        "        oversampled_minority = resample(\n",
        "            minority_class,\n",
        "            replace=True,\n",
        "            n_samples=len(majority_class),\n",
        "            random_state=42\n",
        "        )\n",
        "\n",
        "        oversampled_data = pd.concat([majority_class, oversampled_minority])\n",
        "\n",
        "        return oversampled_data.drop([self.target_column, 'target_actual_profit'], axis=1), oversampled_data[[self.target_column, 'target_actual_profit']]"
      ],
      "metadata": {
        "id": "KI6fE-jXnn-k"
      },
      "execution_count": 22,
      "outputs": []
    },
    {
      "cell_type": "markdown",
      "source": [
        "# Pipline for test feature data"
      ],
      "metadata": {
        "id": "p7J-QMIxz0rl"
      }
    },
    {
      "cell_type": "code",
      "source": [
        "test_pipline = Pipeline([\n",
        "    ('missing_imput', MissingValueImputationTransformer(strategy='median')),\n",
        "    ('outlier imputation', OutlierImputationTransformer()),\n",
        "    ('drop_columns', DropColumnsTransformer()),\n",
        "    ('scaling', MinMaxScalerTransformer()),\n",
        "    ('pca', PCATransformer())\n",
        "])"
      ],
      "metadata": {
        "id": "ODWSdMKjn_9o"
      },
      "execution_count": 23,
      "outputs": []
    },
    {
      "cell_type": "markdown",
      "source": [
        "# Pipliine for train data"
      ],
      "metadata": {
        "id": "xVL94z68z6GG"
      }
    },
    {
      "cell_type": "code",
      "source": [
        "train_pipeline = Pipeline([\n",
        "    ('anomaly_detection', AnomalyDetectionTransformer()),\n",
        "    ('tomek_link', TomekLinksSampler()),\n",
        "    ('oversampling', OversamplingTransformer())\n",
        "])"
      ],
      "metadata": {
        "id": "RiIBwGMJCDHy"
      },
      "execution_count": 24,
      "outputs": []
    },
    {
      "cell_type": "markdown",
      "source": [
        "# Fit piplines"
      ],
      "metadata": {
        "id": "6UY3KNO91qVO"
      }
    },
    {
      "cell_type": "code",
      "source": [
        "X_train = test_pipline.fit_transform(X_train)"
      ],
      "metadata": {
        "id": "ZV5DKjNan5Hx"
      },
      "execution_count": 25,
      "outputs": []
    },
    {
      "cell_type": "code",
      "source": [
        "X_transformed, y_transformed = train_pipeline.fit_transform(X_train, y_train)"
      ],
      "metadata": {
        "id": "oyFvfM5UCdOc"
      },
      "execution_count": 26,
      "outputs": []
    },
    {
      "cell_type": "markdown",
      "source": [
        "# Save X_transformed and y_transformed"
      ],
      "metadata": {
        "id": "kD-tz2A34AKo"
      }
    },
    {
      "cell_type": "code",
      "source": [
        "X_transformed.to_parquet('/content/drive/MyDrive/Churn Prediction/X_train_preprocessed')\n",
        "y_transformed.to_parquet('/content/drive/MyDrive/Churn Prediction/y_train_preprocessed')"
      ],
      "metadata": {
        "id": "ao0yfthr3vkR"
      },
      "execution_count": 27,
      "outputs": []
    },
    {
      "cell_type": "markdown",
      "source": [
        "# Save piplines in dill"
      ],
      "metadata": {
        "id": "wpJavev71lrO"
      }
    },
    {
      "cell_type": "code",
      "source": [
        "!pip install dill"
      ],
      "metadata": {
        "colab": {
          "base_uri": "https://localhost:8080/"
        },
        "id": "AQtufTfRUd0n",
        "outputId": "7f15c04c-06a7-4403-a62c-4c632d4cdd83"
      },
      "execution_count": 28,
      "outputs": [
        {
          "output_type": "stream",
          "name": "stdout",
          "text": [
            "Requirement already satisfied: dill in /usr/local/lib/python3.10/dist-packages (0.3.9)\n"
          ]
        }
      ]
    },
    {
      "cell_type": "code",
      "source": [
        "with open('/content/drive/MyDrive/Churn Prediction/test_pipeline.pkl', 'wb') as file:\n",
        "    dill.dump(test_pipline, file)"
      ],
      "metadata": {
        "id": "oWF5aXIV0hz2"
      },
      "execution_count": 33,
      "outputs": []
    },
    {
      "cell_type": "code",
      "source": [
        "with open('/content/drive/MyDrive/Churn Prediction/train_pipeline.pkl', 'wb') as file:\n",
        "    dill.dump(train_pipeline, file)"
      ],
      "metadata": {
        "id": "vkZQyEk_03TU"
      },
      "execution_count": 34,
      "outputs": []
    },
    {
      "cell_type": "code",
      "source": [],
      "metadata": {
        "id": "OrGGKXtJWPyR"
      },
      "execution_count": null,
      "outputs": []
    }
  ]
}
