{
  "cells": [
    {
      "cell_type": "code",
      "execution_count": 1,
      "metadata": {
        "colab": {
          "base_uri": "https://localhost:8080/"
        },
        "id": "EH_Lfr9l9xLn",
        "outputId": "957fc21f-96a1-4f1b-d501-e487b3608a6e"
      },
      "outputs": [
        {
          "name": "stdout",
          "output_type": "stream",
          "text": [
            "Mounted at /content/drive\n"
          ]
        }
      ],
      "source": [
        "from google.colab import drive\n",
        "drive.mount('/content/drive')"
      ]
    },
    {
      "cell_type": "markdown",
      "metadata": {
        "id": "CBzz_lJ3-uAf"
      },
      "source": [
        "# Import important libraries"
      ]
    },
    {
      "cell_type": "code",
      "execution_count": 3,
      "metadata": {
        "colab": {
          "base_uri": "https://localhost:8080/"
        },
        "id": "wOzT4eXC-5qP",
        "outputId": "5938a131-2a91-468d-8a94-d1e66c883052"
      },
      "outputs": [
        {
          "name": "stdout",
          "output_type": "stream",
          "text": [
            "Collecting dill\n",
            "  Downloading dill-0.3.9-py3-none-any.whl.metadata (10 kB)\n",
            "Downloading dill-0.3.9-py3-none-any.whl (119 kB)\n",
            "\u001b[?25l   \u001b[90m━━━━━━━━━━━━━━━━━━━━━━━━━━━━━━━━━━━━━━━━\u001b[0m \u001b[32m0.0/119.4 kB\u001b[0m \u001b[31m?\u001b[0m eta \u001b[36m-:--:--\u001b[0m\r\u001b[2K   \u001b[91m━━━━━━━━━━━━━━━━━━━━━━━━━━━━━━━━━━━━━\u001b[0m\u001b[91m╸\u001b[0m\u001b[90m━━\u001b[0m \u001b[32m112.6/119.4 kB\u001b[0m \u001b[31m3.4 MB/s\u001b[0m eta \u001b[36m0:00:01\u001b[0m\r\u001b[2K   \u001b[90m━━━━━━━━━━━━━━━━━━━━━━━━━━━━━━━━━━━━━━━━\u001b[0m \u001b[32m119.4/119.4 kB\u001b[0m \u001b[31m2.6 MB/s\u001b[0m eta \u001b[36m0:00:00\u001b[0m\n",
            "\u001b[?25hInstalling collected packages: dill\n",
            "Successfully installed dill-0.3.9\n"
          ]
        }
      ],
      "source": [
        "!pip install dill"
      ]
    },
    {
      "cell_type": "code",
      "execution_count": 46,
      "metadata": {
        "id": "qPJ7a-2T-tmv"
      },
      "outputs": [],
      "source": [
        "import numpy as np\n",
        "import pandas as pd\n",
        "import matplotlib.pyplot as plt\n",
        "import seaborn as sns\n",
        "from scipy import stats\n",
        "import dill\n",
        "import warnings\n",
        "from sklearn.exceptions import FitFailedWarning"
      ]
    },
    {
      "cell_type": "code",
      "execution_count": 41,
      "metadata": {
        "id": "ukufJizpEsof"
      },
      "outputs": [],
      "source": [
        "warnings.filterwarnings(\"ignore\", category=UserWarning)\n",
        "warnings.filterwarnings(\"ignore\", category=FitFailedWarning)"
      ]
    },
    {
      "cell_type": "markdown",
      "metadata": {
        "id": "9_coksQJ_m_O"
      },
      "source": [
        "# Load test data\n"
      ]
    },
    {
      "cell_type": "code",
      "execution_count": 7,
      "metadata": {
        "id": "0K99lzDG_or-"
      },
      "outputs": [],
      "source": [
        "X_test = pd.read_parquet('/content/drive/MyDrive/Churn Prediction/X_test')\n",
        "y_test = pd.read_parquet('/content/drive/MyDrive/Churn Prediction/y_test')"
      ]
    },
    {
      "cell_type": "markdown",
      "metadata": {
        "id": "Sz1iUE5e_IbW"
      },
      "source": [
        "# Load preprocessing pipline"
      ]
    },
    {
      "cell_type": "code",
      "execution_count": 6,
      "metadata": {
        "id": "xlHFkGdu_LVO"
      },
      "outputs": [],
      "source": [
        "with open('/content/drive/MyDrive/Churn Prediction/test_pipeline.pkl', 'rb') as f:\n",
        "    pipline = dill.load(f)"
      ]
    },
    {
      "cell_type": "markdown",
      "metadata": {
        "id": "LICUv7rd_GMe"
      },
      "source": [
        "# Load all models"
      ]
    },
    {
      "cell_type": "code",
      "execution_count": 8,
      "metadata": {
        "id": "OyojLG27-5A2"
      },
      "outputs": [],
      "source": [
        "with open('/content/drive/MyDrive/Churn Prediction/hard_voting_model_churn.pkl', 'rb') as f:\n",
        "    churn_model = dill.load(f)"
      ]
    },
    {
      "cell_type": "code",
      "execution_count": 9,
      "metadata": {
        "id": "NFa-IgkCADpn"
      },
      "outputs": [],
      "source": [
        "with open('/content/drive/MyDrive/Churn Prediction/xgboost_regr_profit.pkl', 'rb') as f:\n",
        "    profit_model = dill.load(f)"
      ]
    },
    {
      "cell_type": "markdown",
      "metadata": {
        "id": "Xjs_8YE2AYG_"
      },
      "source": [
        "# Create class for model aggregation"
      ]
    },
    {
      "cell_type": "code",
      "execution_count": 47,
      "metadata": {
        "id": "jvbMBoryAWCP"
      },
      "outputs": [],
      "source": [
        "class AggregationModel:\n",
        "    def __init__(self, churn_model, profit_model, pipeline):\n",
        "        self.churn_model = churn_model\n",
        "        self.profit_model = profit_model\n",
        "        self.pipeline = pipeline\n",
        "    \n",
        "    def predict(self, X):\n",
        "        warnings.filterwarnings(\"ignore\", category=UserWarning)\n",
        "        warnings.filterwarnings(\"ignore\", category=FitFailedWarning)\n",
        "        \n",
        "        X_transformed = self.pipeline.transform(X)\n",
        "        X_transformed = np.array(X_transformed)\n",
        "        \n",
        "        churn_pred = self.churn_model.predict(X_transformed)\n",
        "        \n",
        "        profit_pred = []\n",
        "        \n",
        "        for i, churn in enumerate(churn_pred):\n",
        "            if churn == 0:\n",
        "                profit_pred.append(-13.58)\n",
        "            else:\n",
        "                profit_pred.append(self.profit_model.predict(X_transformed[i].reshape(1, -1))[0])\n",
        "        \n",
        "        return churn_pred, np.array(profit_pred)"
      ]
    },
    {
      "cell_type": "markdown",
      "metadata": {
        "id": "W3alsj4tBXOv"
      },
      "source": [
        "# Create custom model object"
      ]
    },
    {
      "cell_type": "code",
      "execution_count": 48,
      "metadata": {
        "id": "mqghVLW6BWje"
      },
      "outputs": [],
      "source": [
        "custom_model = AggregationModel(churn_model, profit_model, pipline)"
      ]
    },
    {
      "cell_type": "markdown",
      "metadata": {
        "id": "bx2X1rxCBf1u"
      },
      "source": [
        "# Predict test data"
      ]
    },
    {
      "cell_type": "code",
      "execution_count": 44,
      "metadata": {
        "id": "ldRo9yvYBfFt"
      },
      "outputs": [],
      "source": [
        "y_pred = custom_model.predict(X_test)"
      ]
    },
    {
      "cell_type": "markdown",
      "metadata": {
        "id": "nXLKvGUAF3D9"
      },
      "source": [
        "# Import important libraries for evaluation"
      ]
    },
    {
      "cell_type": "code",
      "execution_count": 49,
      "metadata": {
        "id": "tgYVV1C_FDNW"
      },
      "outputs": [],
      "source": [
        "from sklearn.metrics import classification_report, confusion_matrix, roc_auc_score, roc_curve, precision_score, recall_score, f1_score, precision_recall_curve, accuracy_score, r2_score, mean_absolute_error, mean_squared_error"
      ]
    },
    {
      "cell_type": "markdown",
      "metadata": {
        "id": "H9licGwoF_QX"
      },
      "source": [
        "# Churn prediction evaluation class"
      ]
    },
    {
      "cell_type": "code",
      "execution_count": 50,
      "metadata": {
        "id": "MJ8gYrOmFPTF"
      },
      "outputs": [],
      "source": [
        "class BinaryClassificationEvaluation:\n",
        "    def __init__(self, y_test, y_pred, y_pred_prob=None):\n",
        "        self.y_test = y_test\n",
        "        self.y_pred = y_pred\n",
        "        self.y_pred_prob = y_pred_prob\n",
        "\n",
        "    def accuracy(self):\n",
        "        accuracy = accuracy_score(self.y_test, self.y_pred)\n",
        "        return accuracy\n",
        "\n",
        "    def classification_report(self):\n",
        "        report = classification_report(self.y_test, self.y_pred)\n",
        "        return report\n",
        "\n",
        "    def precision_recall_f1(self):\n",
        "        precision = precision_score(self.y_test, self.y_pred)\n",
        "        recall = recall_score(self.y_test, self.y_pred)\n",
        "        f1 = f1_score(self.y_test, self.y_pred)\n",
        "        return precision, recall, f1\n",
        "    def roc_score(self):\n",
        "        if self.y_pred_prob is None:\n",
        "            raise ValueError(\"y_pred_prob must be provided for ROC curve evaluation.\")\n",
        "        auc_score = roc_auc_score(self.y_test, self.y_pred_prob)\n",
        "        return auc_score\n",
        "\n",
        "    def visualize_confusion_matrix(self):\n",
        "        cm = confusion_matrix(self.y_test, self.y_pred)\n",
        "        plt.figure(figsize=(8, 6))\n",
        "        sns.heatmap(cm, annot=True, fmt='d', cmap='Blues',\n",
        "                    xticklabels=['Not Churn', 'Churn'],\n",
        "                    yticklabels=['Not Churn', 'Churn'])\n",
        "        plt.xlabel('Predicted')\n",
        "        plt.ylabel('Actual')\n",
        "        plt.title('Confusion Matrix')\n",
        "        plt.show()\n",
        "\n",
        "    def roc_curve_visualization(self):\n",
        "        auc_score = self.roc_score()\n",
        "        print('=========================')\n",
        "        print('||','ROC AUC Score:', auc_score.round(2),'||')\n",
        "        print('=========================')\n",
        "        fpr, tpr, _ = roc_curve(self.y_test, self.y_pred_prob)\n",
        "        plt.plot(fpr, tpr, color='blue', label='ROC Curve (area = %0.2f)' % auc_score)\n",
        "        plt.plot([0, 1], [0, 1], color='red', linestyle='--')\n",
        "        plt.xlabel('False Positive Rate')\n",
        "        plt.ylabel('True Positive Rate')\n",
        "        plt.title('ROC Curve')\n",
        "        plt.legend(loc='lower right')\n",
        "        plt.show()\n",
        "\n",
        "    def precision_recall_curve_plot(self):\n",
        "        if self.y_pred_prob is None:\n",
        "            raise ValueError(\"y_pred_prob must be provided for Precision-Recall curve evaluation.\")\n",
        "\n",
        "        precision, recall, _ = precision_recall_curve(self.y_test, self.y_pred_prob)\n",
        "        plt.plot(recall, precision, marker='.')\n",
        "        plt.xlabel('Recall')\n",
        "        plt.ylabel('Precision')\n",
        "        plt.title('Precision-Recall Curve')\n",
        "        plt.show()"
      ]
    },
    {
      "cell_type": "markdown",
      "metadata": {
        "id": "idhHeKLRGEMW"
      },
      "source": [
        "# Profit prediction evaluation class"
      ]
    },
    {
      "cell_type": "code",
      "execution_count": 51,
      "metadata": {
        "id": "ck_cfWdVF1zG"
      },
      "outputs": [],
      "source": [
        "class RegressionEvaluation:\n",
        "    def __init__(self, y_test, y_pred):\n",
        "        self.y_test = y_test\n",
        "        self.y_pred = y_pred\n",
        "\n",
        "    def r2(self):\n",
        "        return r2_score(self.y_test, self.y_pred)\n",
        "\n",
        "    def mean_absolute_error(self):\n",
        "        return mean_absolute_error(self.y_test, self.y_pred)\n",
        "\n",
        "    def mean_squared_error(self):\n",
        "        return mean_squared_error(self.y_test, self.y_pred)\n",
        "\n",
        "    def root_mean_squared_error(self):\n",
        "        return np.sqrt(self.mean_squared_error())\n",
        "\n",
        "    def residuals_plot(self):\n",
        "        residuals = self.y_test - self.y_pred\n",
        "        plt.figure(figsize=(10, 6))\n",
        "        sns.scatterplot(x=self.y_pred, y=residuals)\n",
        "        plt.axhline(0, color='red', linestyle='--', linewidth=2)\n",
        "        plt.xlabel('Predicted Values')\n",
        "        plt.ylabel('Residuals')\n",
        "        plt.title('Residuals vs Predicted Values')\n",
        "        plt.show()\n",
        "\n",
        "    def predictions_vs_actual_plot(self):\n",
        "        plt.figure(figsize=(10, 6))\n",
        "        plt.scatter(self.y_test, self.y_pred, alpha=0.5)\n",
        "        plt.plot([self.y_test.min(), self.y_test.max()],\n",
        "                 [self.y_test.min(), self.y_test.max()],\n",
        "                 'r--', lw=2)\n",
        "        plt.xlabel('Actual Values')\n",
        "        plt.ylabel('Predicted Values')\n",
        "        plt.title('Predictions vs Actual Values')\n",
        "        plt.show()\n",
        "\n",
        "    def summary(self):\n",
        "        print(\"R² Score:\", self.r2())\n",
        "        print(\"Mean Absolute Error:\", self.mean_absolute_error())\n",
        "        print(\"Mean Squared Error:\", self.mean_squared_error())\n",
        "        print(\"Root Mean Squared Error:\", self.root_mean_squared_error())"
      ]
    },
    {
      "cell_type": "markdown",
      "metadata": {
        "id": "Fmjh_xB8GZel"
      },
      "source": [
        "# Create evaluation objects"
      ]
    },
    {
      "cell_type": "code",
      "execution_count": 56,
      "metadata": {
        "id": "OJcBc1LUGY5M"
      },
      "outputs": [],
      "source": [
        "churn_model_evaluation = BinaryClassificationEvaluation(y_test.iloc[:,0], y_pred[0])\n",
        "profit_model_evaluation = RegressionEvaluation(y_test.iloc[:,1], y_pred[1])"
      ]
    },
    {
      "cell_type": "code",
      "execution_count": 57,
      "metadata": {
        "colab": {
          "base_uri": "https://localhost:8080/"
        },
        "id": "uvokK-6UGjIE",
        "outputId": "6f286ad2-b3a8-4420-cb12-9b0b52a1a16a"
      },
      "outputs": [
        {
          "name": "stdout",
          "output_type": "stream",
          "text": [
            "              precision    recall  f1-score   support\n",
            "\n",
            "           0       0.87      0.91      0.89     15296\n",
            "           1       0.78      0.70      0.74      7226\n",
            "\n",
            "    accuracy                           0.84     22522\n",
            "   macro avg       0.82      0.80      0.81     22522\n",
            "weighted avg       0.84      0.84      0.84     22522\n",
            "\n"
          ]
        }
      ],
      "source": [
        "print(churn_model_evaluation.classification_report())"
      ]
    },
    {
      "cell_type": "code",
      "execution_count": 58,
      "metadata": {
        "colab": {
          "base_uri": "https://localhost:8080/"
        },
        "id": "nVdPi9tQGpQE",
        "outputId": "99aceaf0-d3ba-4bba-cc8b-d6bcd6b0cb79"
      },
      "outputs": [
        {
          "name": "stdout",
          "output_type": "stream",
          "text": [
            "R² Score: 0.3220637138517549\n",
            "Mean Absolute Error: 3.1193497611986674\n",
            "Mean Squared Error: 49.92138268830222\n",
            "Root Mean Squared Error: 7.065506541522852\n"
          ]
        }
      ],
      "source": [
        "profit_model_evaluation.summary()"
      ]
    },
    {
      "cell_type": "markdown",
      "metadata": {
        "id": "sXadBrkyH2F9"
      },
      "source": [
        "# Save the model"
      ]
    },
    {
      "cell_type": "code",
      "execution_count": 59,
      "metadata": {
        "id": "tj9iuTqaHB7Q"
      },
      "outputs": [],
      "source": [
        "with open('/content/drive/MyDrive/Churn Prediction/churn_profit_model.pkl', 'wb') as f:\n",
        "    dill.dump(custom_model, f)"
      ]
    }
  ],
  "metadata": {
    "colab": {
      "provenance": []
    },
    "kernelspec": {
      "display_name": "Python 3",
      "name": "python3"
    },
    "language_info": {
      "name": "python"
    }
  },
  "nbformat": 4,
  "nbformat_minor": 0
}
