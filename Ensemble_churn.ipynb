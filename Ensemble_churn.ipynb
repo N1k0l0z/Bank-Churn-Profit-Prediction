{
  "nbformat": 4,
  "nbformat_minor": 0,
  "metadata": {
    "colab": {
      "provenance": []
    },
    "kernelspec": {
      "name": "python3",
      "display_name": "Python 3"
    },
    "language_info": {
      "name": "python"
    }
  },
  "cells": [
    {
      "cell_type": "code",
      "execution_count": 1,
      "metadata": {
        "colab": {
          "base_uri": "https://localhost:8080/"
        },
        "id": "5PfdGpP1AN5M",
        "outputId": "98374d30-adf4-4aba-eb25-1ccdb0f636f9"
      },
      "outputs": [
        {
          "output_type": "stream",
          "name": "stdout",
          "text": [
            "Drive already mounted at /content/drive; to attempt to forcibly remount, call drive.mount(\"/content/drive\", force_remount=True).\n"
          ]
        }
      ],
      "source": [
        "from google.colab import drive\n",
        "drive.mount('/content/drive')"
      ]
    },
    {
      "cell_type": "markdown",
      "source": [
        "# Import important libraries"
      ],
      "metadata": {
        "id": "JIB87GsfApyF"
      }
    },
    {
      "cell_type": "code",
      "source": [
        "!pip install dill"
      ],
      "metadata": {
        "colab": {
          "base_uri": "https://localhost:8080/"
        },
        "id": "s2ZiH0DsAXTl",
        "outputId": "c911c8ff-7d77-4fb9-d3f0-906a703c334e"
      },
      "execution_count": 2,
      "outputs": [
        {
          "output_type": "stream",
          "name": "stdout",
          "text": [
            "Requirement already satisfied: dill in /usr/local/lib/python3.10/dist-packages (0.3.9)\n"
          ]
        }
      ]
    },
    {
      "cell_type": "code",
      "source": [
        "import pandas as pd\n",
        "import numpy as np\n",
        "import matplotlib.pyplot as plt\n",
        "import seaborn as sns\n",
        "import dill as pickle\n",
        "import warnings\n",
        "from sklearn.exceptions import FitFailedWarning\n",
        "from scipy import stats"
      ],
      "metadata": {
        "id": "pgz9EtQnAtV9"
      },
      "execution_count": 39,
      "outputs": []
    },
    {
      "cell_type": "markdown",
      "source": [
        "# Read preprocessed train data"
      ],
      "metadata": {
        "id": "1cYyQGWdAv78"
      }
    },
    {
      "cell_type": "code",
      "source": [
        "X_train = pd.read_parquet('/content/drive/MyDrive/Churn Prediction/X_train_preprocessed')\n",
        "y_train = pd.read_parquet('/content/drive/MyDrive/Churn Prediction/y_train_preprocessed')['target_event']"
      ],
      "metadata": {
        "id": "LH6bapJ7Atvz"
      },
      "execution_count": 4,
      "outputs": []
    },
    {
      "cell_type": "markdown",
      "source": [
        "# Read and transform test data"
      ],
      "metadata": {
        "id": "GYPQQnZQA03d"
      }
    },
    {
      "cell_type": "code",
      "source": [
        "with open('/content/drive/MyDrive/Churn Prediction/test_pipeline.pkl', 'rb') as file:\n",
        "    test_pipeline = dill.load(file)"
      ],
      "metadata": {
        "id": "Q8rs-umNAzC1"
      },
      "execution_count": 5,
      "outputs": []
    },
    {
      "cell_type": "code",
      "source": [
        "X_test = test_pipeline.transform(pd.read_parquet('/content/drive/MyDrive/Churn Prediction/X_test'))\n",
        "y_test = pd.read_parquet('/content/drive/MyDrive/Churn Prediction/y_test')['target_event']"
      ],
      "metadata": {
        "id": "mvYbjVDcA3KU"
      },
      "execution_count": 6,
      "outputs": []
    },
    {
      "cell_type": "markdown",
      "source": [
        "# Binary evaluation class"
      ],
      "metadata": {
        "id": "4EVsLUPVA9gl"
      }
    },
    {
      "cell_type": "code",
      "source": [
        "from sklearn.metrics import classification_report, confusion_matrix, roc_auc_score, roc_curve, precision_score, recall_score, f1_score, precision_recall_curve, accuracy_score"
      ],
      "metadata": {
        "id": "PbOH-VsKA7O8"
      },
      "execution_count": 7,
      "outputs": []
    },
    {
      "cell_type": "code",
      "source": [
        "class BinaryClassificationEvaluation:\n",
        "    def __init__(self, y_test, y_pred, y_pred_prob=None):\n",
        "        self.y_test = y_test\n",
        "        self.y_pred = y_pred\n",
        "        self.y_pred_prob = y_pred_prob\n",
        "\n",
        "    def accuracy(self):\n",
        "        accuracy = accuracy_score(self.y_test, self.y_pred)\n",
        "        return accuracy\n",
        "\n",
        "    def classification_report(self):\n",
        "        report = classification_report(self.y_test, self.y_pred)\n",
        "        return report\n",
        "\n",
        "    def precision_recall_f1(self):\n",
        "        precision = precision_score(self.y_test, self.y_pred)\n",
        "        recall = recall_score(self.y_test, self.y_pred)\n",
        "        f1 = f1_score(self.y_test, self.y_pred)\n",
        "        return precision, recall, f1\n",
        "    def roc_score(self):\n",
        "        if self.y_pred_prob is None:\n",
        "            raise ValueError(\"y_pred_prob must be provided for ROC curve evaluation.\")\n",
        "        auc_score = roc_auc_score(self.y_test, self.y_pred_prob)\n",
        "        return auc_score\n",
        "\n",
        "    def visualize_confusion_matrix(self):\n",
        "        cm = confusion_matrix(self.y_test, self.y_pred)\n",
        "        plt.figure(figsize=(8, 6))\n",
        "        sns.heatmap(cm, annot=True, fmt='d', cmap='Blues',\n",
        "                    xticklabels=['Not Churn', 'Churn'],\n",
        "                    yticklabels=['Not Churn', 'Churn'])\n",
        "        plt.xlabel('Predicted')\n",
        "        plt.ylabel('Actual')\n",
        "        plt.title('Confusion Matrix')\n",
        "        plt.show()\n",
        "\n",
        "    def roc_curve_visualization(self):\n",
        "        auc_score = self.roc_score()\n",
        "        print('=========================')\n",
        "        print('||','ROC AUC Score:', auc_score.round(2),'||')\n",
        "        print('=========================')\n",
        "        fpr, tpr, _ = roc_curve(self.y_test, self.y_pred_prob)\n",
        "        plt.plot(fpr, tpr, color='blue', label='ROC Curve (area = %0.2f)' % auc_score)\n",
        "        plt.plot([0, 1], [0, 1], color='red', linestyle='--')\n",
        "        plt.xlabel('False Positive Rate')\n",
        "        plt.ylabel('True Positive Rate')\n",
        "        plt.title('ROC Curve')\n",
        "        plt.legend(loc='lower right')\n",
        "        plt.show()\n",
        "\n",
        "    def precision_recall_curve_plot(self):\n",
        "        if self.y_pred_prob is None:\n",
        "            raise ValueError(\"y_pred_prob must be provided for Precision-Recall curve evaluation.\")\n",
        "\n",
        "        precision, recall, _ = precision_recall_curve(self.y_test, self.y_pred_prob)\n",
        "        plt.plot(recall, precision, marker='.')\n",
        "        plt.xlabel('Recall')\n",
        "        plt.ylabel('Precision')\n",
        "        plt.title('Precision-Recall Curve')\n",
        "        plt.show()"
      ],
      "metadata": {
        "id": "IFSR6TR7A_Zk"
      },
      "execution_count": 8,
      "outputs": []
    },
    {
      "cell_type": "markdown",
      "source": [
        "# Load all models available"
      ],
      "metadata": {
        "id": "oTS5E-3GBJJd"
      }
    },
    {
      "cell_type": "code",
      "source": [
        "with open('/content/drive/MyDrive/Churn Prediction/log_reg_model.pkl', 'rb') as file:\n",
        "    log_reg = dill.load(file)"
      ],
      "metadata": {
        "id": "owY1I5ZsBM9d"
      },
      "execution_count": 9,
      "outputs": []
    },
    {
      "cell_type": "code",
      "source": [
        "with open('/content/drive/MyDrive/Churn Prediction/random_forest_churn.pkl', 'rb') as file:\n",
        "    forest = dill.load(file)"
      ],
      "metadata": {
        "id": "8iJYKDKIBUxM"
      },
      "execution_count": 10,
      "outputs": []
    },
    {
      "cell_type": "code",
      "source": [
        "with open('/content/drive/MyDrive/Churn Prediction/svm_model_churn.pkl', 'rb') as file:\n",
        "    svm = dill.load(file)"
      ],
      "metadata": {
        "id": "rt2eYBX5BUgM"
      },
      "execution_count": 11,
      "outputs": []
    },
    {
      "cell_type": "code",
      "source": [
        "with open('/content/drive/MyDrive/Churn Prediction/XGBoost_churn.pkl', 'rb') as file:\n",
        "    boost = dill.load(file)"
      ],
      "metadata": {
        "id": "bOPs-ZmBBUAE"
      },
      "execution_count": 12,
      "outputs": []
    },
    {
      "cell_type": "markdown",
      "source": [
        "---\n",
        "# ***Hard Voting Ensembel***\n",
        "---"
      ],
      "metadata": {
        "id": "edOQVjzQBDoO"
      }
    },
    {
      "cell_type": "code",
      "source": [
        "class VotingEnsemble:\n",
        "    def __init__(self, model1, model2, model3, model4, voting='Hard'):\n",
        "        self.model1 = model1\n",
        "        self.model2 = model2\n",
        "        self.model3 = model3\n",
        "        self.model4 = model4\n",
        "        self.voting = voting\n",
        "        self.y_pred = None\n",
        "        self.y_pred_prob = None\n",
        "\n",
        "    def predict(self, X):\n",
        "        if self.voting == 'Hard':\n",
        "            predictions = np.array([model.predict(X) for model in [self.model1, self.model2, self.model3, self.model4]])\n",
        "            self.y_pred = stats.mode(predictions, axis=0)[0].flatten()\n",
        "            return self.y_pred\n",
        "\n",
        "        elif self.voting == 'Soft':\n",
        "            probabilities = np.array([model.predict_proba(X) for model in [self.model1, self.model2, self.model3, self.model4]])\n",
        "            self.y_pred_prob = np.mean(probabilities, axis=0)\n",
        "            self.y_pred = np.argmax(self.y_pred_prob, axis=1)\n",
        "            return self.y_pred\n",
        "    def predict_proba(self, X):\n",
        "        if self.voting == 'Hard':\n",
        "            raise ValueError(\"predict_proba is not available for 'Hard' voting. Use 'Soft' voting for probability estimates.\")\n",
        "        elif self.voting == 'Soft':\n",
        "            if self.y_pred_prob is None:\n",
        "                self.predict(X)\n",
        "            return self.y_pred_prob\n",
        "    def save_model(self, filename):\n",
        "        with open(filename, 'wb') as file:\n",
        "            pickle.dump(self, file)"
      ],
      "metadata": {
        "id": "oVL4JpFxB2aE"
      },
      "execution_count": 40,
      "outputs": []
    },
    {
      "cell_type": "markdown",
      "source": [
        "# Create hard voting class object"
      ],
      "metadata": {
        "id": "2KXWmFK2ELj0"
      }
    },
    {
      "cell_type": "code",
      "source": [
        "hard_voting = VotingEnsemble(log_reg, forest, svm, boost, voting='Hard')"
      ],
      "metadata": {
        "id": "UrjeOYnsCtA7"
      },
      "execution_count": 41,
      "outputs": []
    },
    {
      "cell_type": "markdown",
      "source": [
        "# Create the prediction"
      ],
      "metadata": {
        "id": "33djyZw-EWN1"
      }
    },
    {
      "cell_type": "code",
      "source": [
        "y_pred_hard = hard_voting.predict(X_test)"
      ],
      "metadata": {
        "id": "8VsfSDE6EVG6"
      },
      "execution_count": 37,
      "outputs": []
    },
    {
      "cell_type": "markdown",
      "source": [
        "# Create evaluation object for hard voting"
      ],
      "metadata": {
        "id": "wTDSUJ0AEnXF"
      }
    },
    {
      "cell_type": "code",
      "source": [
        "hard_eval = BinaryClassificationEvaluation(y_test, y_pred_hard)"
      ],
      "metadata": {
        "id": "XVuhBS5hEaFy"
      },
      "execution_count": 16,
      "outputs": []
    },
    {
      "cell_type": "markdown",
      "source": [
        "# Evaluate hard voting from different corner"
      ],
      "metadata": {
        "id": "pCn7lC0dE1Vc"
      }
    },
    {
      "cell_type": "code",
      "source": [
        "print(hard_eval.classification_report())"
      ],
      "metadata": {
        "colab": {
          "base_uri": "https://localhost:8080/"
        },
        "id": "fSEFyJ98E0zT",
        "outputId": "5bb2c889-9813-44ca-ced9-f3fcad3ae149"
      },
      "execution_count": 17,
      "outputs": [
        {
          "output_type": "stream",
          "name": "stdout",
          "text": [
            "              precision    recall  f1-score   support\n",
            "\n",
            "           0       0.87      0.91      0.89     15296\n",
            "           1       0.78      0.70      0.74      7226\n",
            "\n",
            "    accuracy                           0.84     22522\n",
            "   macro avg       0.82      0.80      0.81     22522\n",
            "weighted avg       0.84      0.84      0.84     22522\n",
            "\n"
          ]
        }
      ]
    },
    {
      "cell_type": "code",
      "source": [
        "precision, recall, f1 = hard_eval.precision_recall_f1()\n",
        "print(f'Precision: {precision:.2f}')\n",
        "print(f'Recall: {recall:.2f}')\n",
        "print(f'F1 Score: {f1:.2f}')"
      ],
      "metadata": {
        "colab": {
          "base_uri": "https://localhost:8080/"
        },
        "id": "dtOBvS-eFIPr",
        "outputId": "c300e7dc-0f82-441a-b2fa-217fc122e7dd"
      },
      "execution_count": 18,
      "outputs": [
        {
          "output_type": "stream",
          "name": "stdout",
          "text": [
            "Precision: 0.78\n",
            "Recall: 0.70\n",
            "F1 Score: 0.74\n"
          ]
        }
      ]
    },
    {
      "cell_type": "markdown",
      "source": [
        "---\n",
        "# ***Soft Voting Ensembel***\n",
        "---"
      ],
      "metadata": {
        "id": "faH5RLeKdKkC"
      }
    },
    {
      "cell_type": "markdown",
      "source": [
        "# Create hard voting class object"
      ],
      "metadata": {
        "id": "Swf4cyF8Gk7b"
      }
    },
    {
      "cell_type": "code",
      "source": [
        "soft_voting = VotingEnsemble(log_reg, forest, svm, boost, voting='Soft')"
      ],
      "metadata": {
        "id": "nDvNRPTAFmXb"
      },
      "execution_count": 35,
      "outputs": []
    },
    {
      "cell_type": "markdown",
      "source": [
        "# Create the prediction"
      ],
      "metadata": {
        "id": "JPf2TiTUG7Pb"
      }
    },
    {
      "cell_type": "code",
      "source": [
        "y_pred_soft = soft_voting.predict(X_test)\n",
        "y_pred_soft_proba = soft_voting.predict_proba(X_test)[:,1]"
      ],
      "metadata": {
        "id": "K41upFlGGvGS"
      },
      "execution_count": 26,
      "outputs": []
    },
    {
      "cell_type": "markdown",
      "source": [
        "# Create evaluation object for soft voting"
      ],
      "metadata": {
        "id": "70hBpN9VW4rp"
      }
    },
    {
      "cell_type": "code",
      "source": [
        "soft_eval = BinaryClassificationEvaluation(y_test, y_pred_soft, y_pred_soft_proba)"
      ],
      "metadata": {
        "id": "j_UgKVQbWrKg"
      },
      "execution_count": 30,
      "outputs": []
    },
    {
      "cell_type": "markdown",
      "source": [
        "# Evaluate soft voting from different corner"
      ],
      "metadata": {
        "id": "j-fR-de7XBcJ"
      }
    },
    {
      "cell_type": "code",
      "source": [
        "print(soft_eval.classification_report())"
      ],
      "metadata": {
        "colab": {
          "base_uri": "https://localhost:8080/"
        },
        "id": "BfXvyUURW-9f",
        "outputId": "d99ef0a2-e825-4a90-b51e-3b0d287a285b"
      },
      "execution_count": 31,
      "outputs": [
        {
          "output_type": "stream",
          "name": "stdout",
          "text": [
            "              precision    recall  f1-score   support\n",
            "\n",
            "           0       0.88      0.86      0.87     15296\n",
            "           1       0.72      0.76      0.74      7226\n",
            "\n",
            "    accuracy                           0.83     22522\n",
            "   macro avg       0.80      0.81      0.80     22522\n",
            "weighted avg       0.83      0.83      0.83     22522\n",
            "\n"
          ]
        }
      ]
    },
    {
      "cell_type": "code",
      "source": [
        "soft_eval.roc_curve_visualization()"
      ],
      "metadata": {
        "colab": {
          "base_uri": "https://localhost:8080/",
          "height": 524
        },
        "id": "vJ2WcCoIX39I",
        "outputId": "e44f8686-ae55-4854-b688-679f7701df52"
      },
      "execution_count": 33,
      "outputs": [
        {
          "output_type": "stream",
          "name": "stdout",
          "text": [
            "=========================\n",
            "|| ROC AUC Score: 0.88 ||\n",
            "=========================\n"
          ]
        },
        {
          "output_type": "display_data",
          "data": {
            "text/plain": [
              "<Figure size 640x480 with 1 Axes>"
            ],
            "image/png": "[encoded data removed]"
          },
          "metadata": {}
        }
      ]
    },
    {
      "cell_type": "markdown",
      "source": [
        "# Since hard voting does better performance i save only hard voting ensemble method"
      ],
      "metadata": {
        "id": "zEd1B29layts"
      }
    },
    {
      "cell_type": "code",
      "source": [
        "hard_voting.save_model('/content/drive/MyDrive/Churn Prediction/hard_voting_model_churn.pkl')"
      ],
      "metadata": {
        "id": "jTsZ3DCcZnTn"
      },
      "execution_count": 42,
      "outputs": []
    }
  ]
}